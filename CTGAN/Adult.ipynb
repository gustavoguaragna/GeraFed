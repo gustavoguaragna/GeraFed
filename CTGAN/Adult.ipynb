{
 "cells": [
  {
   "cell_type": "markdown",
   "metadata": {},
   "source": [
    "#### Importações"
   ]
  },
  {
   "cell_type": "code",
   "execution_count": 1,
   "metadata": {},
   "outputs": [
    {
     "ename": "ModuleNotFoundError",
     "evalue": "No module named 'xgboost'",
     "output_type": "error",
     "traceback": [
      "\u001b[0;31m---------------------------------------------------------------------------\u001b[0m",
      "\u001b[0;31mModuleNotFoundError\u001b[0m                       Traceback (most recent call last)",
      "Cell \u001b[0;32mIn[1], line 8\u001b[0m\n\u001b[1;32m      6\u001b[0m \u001b[38;5;28;01mfrom\u001b[39;00m\u001b[38;5;250m \u001b[39m\u001b[38;5;21;01msklearn\u001b[39;00m\u001b[38;5;21;01m.\u001b[39;00m\u001b[38;5;21;01mlinear_model\u001b[39;00m\u001b[38;5;250m \u001b[39m\u001b[38;5;28;01mimport\u001b[39;00m LogisticRegression\n\u001b[1;32m      7\u001b[0m \u001b[38;5;28;01mfrom\u001b[39;00m\u001b[38;5;250m \u001b[39m\u001b[38;5;21;01msklearn\u001b[39;00m\u001b[38;5;21;01m.\u001b[39;00m\u001b[38;5;21;01mensemble\u001b[39;00m\u001b[38;5;250m \u001b[39m\u001b[38;5;28;01mimport\u001b[39;00m RandomForestClassifier\n\u001b[0;32m----> 8\u001b[0m \u001b[38;5;28;01mfrom\u001b[39;00m\u001b[38;5;250m \u001b[39m\u001b[38;5;21;01mxgboost\u001b[39;00m\u001b[38;5;250m \u001b[39m\u001b[38;5;28;01mimport\u001b[39;00m XGBClassifier\n\u001b[1;32m      9\u001b[0m \u001b[38;5;28;01mfrom\u001b[39;00m\u001b[38;5;250m \u001b[39m\u001b[38;5;21;01msklearn\u001b[39;00m\u001b[38;5;21;01m.\u001b[39;00m\u001b[38;5;21;01mmetrics\u001b[39;00m\u001b[38;5;250m \u001b[39m\u001b[38;5;28;01mimport\u001b[39;00m accuracy_score, classification_report, roc_auc_score, f1_score\n\u001b[1;32m     10\u001b[0m \u001b[38;5;28;01mfrom\u001b[39;00m\u001b[38;5;250m \u001b[39m\u001b[38;5;21;01msklearn\u001b[39;00m\u001b[38;5;21;01m.\u001b[39;00m\u001b[38;5;21;01mmodel_selection\u001b[39;00m\u001b[38;5;250m \u001b[39m\u001b[38;5;28;01mimport\u001b[39;00m RandomizedSearchCV\n",
      "\u001b[0;31mModuleNotFoundError\u001b[0m: No module named 'xgboost'"
     ]
    }
   ],
   "source": [
    "import pandas as pd\n",
    "from sklearn.model_selection import train_test_split\n",
    "from sklearn.preprocessing import OneHotEncoder, StandardScaler, LabelEncoder\n",
    "from sklearn.compose import ColumnTransformer\n",
    "from sklearn.pipeline import Pipeline\n",
    "from sklearn.linear_model import LogisticRegression\n",
    "from sklearn.ensemble import RandomForestClassifier\n",
    "from xgboost import XGBClassifier\n",
    "from sklearn.metrics import accuracy_score, classification_report, roc_auc_score, f1_score\n",
    "from sklearn.model_selection import RandomizedSearchCV\n",
    "#from ctgan import CTGAN\n",
    "import numpy as np"
   ]
  },
  {
   "cell_type": "markdown",
   "metadata": {},
   "source": [
    "#### Carrega e pré processa os dados"
   ]
  },
  {
   "cell_type": "code",
   "execution_count": 5,
   "metadata": {},
   "outputs": [],
   "source": [
    "# Column names for the dataset\n",
    "columns = [\n",
    "    \"age\", \"workclass\", \"fnlwgt\", \"education\", \"education-num\",\n",
    "    \"marital-status\", \"occupation\", \"relationship\", \"race\", \"sex\",\n",
    "    \"capital-gain\", \"capital-loss\", \"hours-per-week\", \"native-country\", \"income\"\n",
    "]\n",
    "\n",
    "# Load the Adult dataset\n",
    "train_url = \"https://archive.ics.uci.edu/ml/machine-learning-databases/adult/adult.data\"\n",
    "test_url = \"https://archive.ics.uci.edu/ml/machine-learning-databases/adult/adult.test\"\n",
    "\n",
    "# Load training data\n",
    "train_data = pd.read_csv(train_url, header=None, names=columns, na_values=[\"?\"], skipinitialspace=True)\n",
    "\n",
    "# Load test data\n",
    "test_data = pd.read_csv(test_url, header=None, names=columns, na_values=[\"?\"], skipinitialspace=True, skiprows=1)\n",
    "test_data[\"income\"] = test_data[\"income\"].str.strip(\".\")  # Clean income column in test set\n",
    "\n",
    "# Remove the 'fnlwgt' column\n",
    "train_data = train_data.drop(columns=['fnlwgt', 'education-num'])\n",
    "test_data = test_data.drop(columns=['fnlwgt', 'education-num'])"
   ]
  },
  {
   "cell_type": "code",
   "execution_count": 29,
   "metadata": {},
   "outputs": [],
   "source": [
    "train_data['capital-gain'] = train_data['capital-gain'].astype(int)\n",
    "test_data['capital-gain'] = test_data['capital-gain'].astype(int)"
   ]
  },
  {
   "cell_type": "code",
   "execution_count": 31,
   "metadata": {},
   "outputs": [],
   "source": [
    "train_data = train_data[train_data['capital-gain'] != 99999]\n",
    "test_data = test_data[test_data['capital-gain'] != 99999]"
   ]
  },
  {
   "cell_type": "markdown",
   "metadata": {},
   "source": [
    "#### Geração de dados sintéticos"
   ]
  },
  {
   "cell_type": "code",
   "execution_count": 23,
   "metadata": {},
   "outputs": [],
   "source": [
    "discrete_columns = [\n",
    "    'workclass',\n",
    "    'education',\n",
    "    'marital-status',\n",
    "    'occupation',\n",
    "    'relationship',\n",
    "    'race',\n",
    "    'sex',\n",
    "    'native-country',\n",
    "    'income'\n",
    "]\n",
    "ctgan = CTGAN(epochs=1)\n",
    "ctgan.fit(train_data, discrete_columns)"
   ]
  },
  {
   "cell_type": "code",
   "execution_count": 121,
   "metadata": {},
   "outputs": [],
   "source": [
    "syndata = ctgan.sample(30000)"
   ]
  },
  {
   "cell_type": "code",
   "execution_count": 79,
   "metadata": {},
   "outputs": [],
   "source": [
    "# Remove 1000 random samples from train_data\n",
    "train_data = train_data.drop(train_data.sample(n=20000).index)"
   ]
  },
  {
   "cell_type": "markdown",
   "metadata": {},
   "source": [
    "#### Transformações para modelagem"
   ]
  },
  {
   "cell_type": "code",
   "execution_count": 6,
   "metadata": {},
   "outputs": [],
   "source": [
    "# Combine train and test data for consistent preprocessing\n",
    "data = pd.concat([train_data, test_data], axis=0, ignore_index=True) #adicione e remova train_data e syndata para treinar ou nao com dados reais e sinteticos\n",
    "\n",
    "# Combinar categorias da variável 'native-country'\n",
    "data['native-country'] = data['native-country'].replace({\n",
    "    country: 'Other' for country in data['native-country'].unique() if country != 'United-States'\n",
    "})\n",
    "\n",
    "# Encode the target variable\n",
    "label_encoder = LabelEncoder()\n",
    "data[\"income\"] = label_encoder.fit_transform(data[\"income\"])  # Encodes '<=50K' as 0 and '>50K' as 1\n",
    "\n",
    "\n",
    "# Split features and target\n",
    "X = data.drop(columns=[\"income\"])\n",
    "y = data[\"income\"]\n",
    "\n",
    "# Label Encoding para education, sex e race\n",
    "for col in [\"education\", \"sex\", \"native-country\"]:\n",
    "    le = LabelEncoder()\n",
    "    X[col] = le.fit_transform(X[col])\n",
    "\n",
    "# Define categorical and numerical columns\n",
    "categorical_columns = X.select_dtypes(include=[\"object\"]).columns\n",
    "numerical_columns = X.select_dtypes(include=[\"int64\", \"float64\"]).columns\n",
    "\n",
    "# Preprocessing pipeline\n",
    "preprocessor = ColumnTransformer(\n",
    "    transformers=[\n",
    "        (\"num\", StandardScaler(), numerical_columns),  # Scale numerical features\n",
    "        (\"cat\", OneHotEncoder(handle_unknown=\"ignore\"), categorical_columns),  # One-hot encode categorical features\n",
    "    ],\n",
    "    remainder=\"passthrough\"\n",
    ")\n",
    "\n",
    "# Split back into train and test sets\n",
    "X_train, X_test, y_train, y_test = train_test_split(X, y, test_size=len(test_data), shuffle=False)"
   ]
  },
  {
   "cell_type": "markdown",
   "metadata": {},
   "source": [
    "#### Pipeline para Regressão Logística"
   ]
  },
  {
   "cell_type": "code",
   "execution_count": 60,
   "metadata": {},
   "outputs": [],
   "source": [
    "# Create a pipeline with preprocessing and classifier\n",
    "pipeline = Pipeline([\n",
    "    (\"preprocessor\", preprocessor),\n",
    "    (\"classifier\", LogisticRegression(max_iter=1000)),\n",
    "])"
   ]
  },
  {
   "cell_type": "markdown",
   "metadata": {},
   "source": [
    "#### Pipeline para Random Forest"
   ]
  },
  {
   "cell_type": "code",
   "execution_count": 62,
   "metadata": {},
   "outputs": [],
   "source": [
    "# Create a pipeline with preprocessing and Random Forest classifier\n",
    "pipeline = Pipeline([\n",
    "    (\"preprocessor\", preprocessor),\n",
    "    (\"classifier\", RandomForestClassifier(n_estimators=100, random_state=42, n_jobs=-1)),\n",
    "])"
   ]
  },
  {
   "cell_type": "markdown",
   "metadata": {},
   "source": [
    "#### Treina o modelo"
   ]
  },
  {
   "cell_type": "code",
   "execution_count": 63,
   "metadata": {},
   "outputs": [
    {
     "name": "stdout",
     "output_type": "stream",
     "text": [
      "Accuracy: 0.8468153061851238\n",
      "\n",
      "Classification Report:\n",
      "               precision    recall  f1-score   support\n",
      "\n",
      "       <=50K       0.88      0.92      0.90     12435\n",
      "        >50K       0.71      0.60      0.65      3846\n",
      "\n",
      "    accuracy                           0.85     16281\n",
      "   macro avg       0.79      0.76      0.78     16281\n",
      "weighted avg       0.84      0.85      0.84     16281\n",
      "\n",
      "ROC AUC: 0.7621508913432532\n",
      "F1 Score: 0.6498174670036506\n"
     ]
    }
   ],
   "source": [
    "# Train the model\n",
    "pipeline.fit(X_train, y_train)\n",
    "\n",
    "# Make predictions\n",
    "y_pred = pipeline.predict(X_test)\n",
    "\n",
    "# Evaluate the model\n",
    "print(\"Accuracy:\", accuracy_score(y_test, y_pred))\n",
    "print(\"\\nClassification Report:\\n\", classification_report(y_test, y_pred, target_names=label_encoder.classes_))\n",
    "print(\"ROC AUC:\", roc_auc_score(y_test, y_pred))\n",
    "print(\"F1 Score:\", f1_score(y_test, y_pred))\n"
   ]
  },
  {
   "cell_type": "markdown",
   "metadata": {},
   "source": [
    "#### Hyperparameter tunning Random Forest"
   ]
  },
  {
   "cell_type": "code",
   "execution_count": null,
   "metadata": {},
   "outputs": [],
   "source": [
    "# Define the parameter grid\n",
    "param_grid = {\n",
    "    \"n_estimators\": [num_clients0, 200, 300, 500],\n",
    "    \"max_depth\": [None, num_clients, 20, 30, 40],\n",
    "    \"min_samples_split\": [2, 5, 10],\n",
    "    \"min_samples_leaf\": [1, 2, 4],\n",
    "    \"max_features\": [\"sqrt\", \"log2\", None],\n",
    "    \"bootstrap\": [True, False],\n",
    "}\n",
    "\n",
    "# Create the Random Forest classifier\n",
    "rf = RandomForestClassifier(random_state=42)\n",
    "\n",
    "# Use RandomizedSearchCV\n",
    "random_search = RandomizedSearchCV(\n",
    "    estimator=rf,\n",
    "    param_distributions=param_grid,\n",
    "    n_iter=50,  # Number of random combinations to try\n",
    "    scoring=\"accuracy\",\n",
    "    cv=3,  # 3-fold cross-validation\n",
    "    verbose=2,\n",
    "    random_state=42,\n",
    "    n_jobs=-1  # Use all available processors\n",
    ")\n",
    "\n",
    "# Preprocess the data\n",
    "X_train_preprocessed = preprocessor.fit_transform(X_train)\n",
    "X_test_preprocessed = preprocessor.transform(X_test)\n",
    "\n",
    "# Fit the model\n",
    "random_search.fit(X_train_preprocessed, y_train)\n",
    "\n",
    "# Best parameters\n",
    "print(\"Best Parameters:\", random_search.best_params_)\n",
    "\n",
    "# Evaluate the best model\n",
    "best_model = random_search.best_estimator_\n",
    "y_pred = best_model.predict(X_test_preprocessed)\n",
    "print(\"Accuracy:\", accuracy_score(y_test, y_pred))\n",
    "print(\"\\nClassification Report:\\n\", classification_report(y_test, y_pred))"
   ]
  },
  {
   "cell_type": "markdown",
   "metadata": {},
   "source": [
    "#### Treina XGBoost"
   ]
  },
  {
   "cell_type": "markdown",
   "metadata": {},
   "source": [
    "##### Usando XGBClassifier (mais alto nível)"
   ]
  },
  {
   "cell_type": "code",
   "execution_count": 78,
   "metadata": {},
   "outputs": [
    {
     "name": "stdout",
     "output_type": "stream",
     "text": [
      "Accuracy: 0.8724894048277133\n",
      "\n",
      "Classification Report:\n",
      "               precision    recall  f1-score   support\n",
      "\n",
      "       <=50K       0.90      0.94      0.92     12435\n",
      "        >50K       0.77      0.66      0.71      3846\n",
      "\n",
      "    accuracy                           0.87     16281\n",
      "   macro avg       0.83      0.80      0.81     16281\n",
      "weighted avg       0.87      0.87      0.87     16281\n",
      "\n",
      "ROC-AUC: 0.9256168477539263\n"
     ]
    }
   ],
   "source": [
    "# Preprocess the data\n",
    "X_train_preprocessed = preprocessor.fit_transform(X_train)\n",
    "X_test_preprocessed = preprocessor.transform(X_test)\n",
    "\n",
    "# Train the XGBoost model directly\n",
    "model = XGBClassifier(eval_metric=\"logloss\", n_jobs=-1)\n",
    "model.fit(X_train_preprocessed, y_train)\n",
    "\n",
    "# Predict and evaluate\n",
    "y_pred = model.predict(X_test_preprocessed)\n",
    "\n",
    "print(\"Accuracy:\", accuracy_score(y_test, y_pred))\n",
    "print(\"\\nClassification Report:\\n\", classification_report(y_test, y_pred, target_names=label_encoder.classes_))\n",
    "print(\"ROC-AUC:\", roc_auc_score(y_test, model.predict_proba(X_test_preprocessed)[:, 1]))\n"
   ]
  },
  {
   "cell_type": "markdown",
   "metadata": {},
   "source": [
    "##### Usando xgb.train (mais baixo nível)"
   ]
  },
  {
   "cell_type": "code",
   "execution_count": 79,
   "metadata": {},
   "outputs": [],
   "source": [
    "import xgboost as xgb"
   ]
  },
  {
   "cell_type": "code",
   "execution_count": 80,
   "metadata": {},
   "outputs": [],
   "source": [
    "train_dmatrix = xgb.DMatrix(data=X_train_preprocessed, label=y_train)"
   ]
  },
  {
   "cell_type": "code",
   "execution_count": 81,
   "metadata": {},
   "outputs": [],
   "source": [
    "test_dmatrix = xgb.DMatrix(data=X_test_preprocessed, label=y_test)"
   ]
  },
  {
   "cell_type": "code",
   "execution_count": 82,
   "metadata": {},
   "outputs": [
    {
     "name": "stdout",
     "output_type": "stream",
     "text": [
      "[0]\tTest-auc:0.88869\n",
      "[1]\tTest-auc:0.89441\n",
      "[2]\tTest-auc:0.90233\n",
      "[3]\tTest-auc:0.90325\n",
      "[4]\tTest-auc:0.90526\n",
      "[5]\tTest-auc:0.90534\n",
      "[6]\tTest-auc:0.90716\n",
      "[7]\tTest-auc:0.90772\n",
      "[8]\tTest-auc:0.90807\n",
      "[9]\tTest-auc:0.90868\n",
      "[10]\tTest-auc:0.90901\n",
      "[11]\tTest-auc:0.90956\n",
      "[12]\tTest-auc:0.91004\n",
      "[13]\tTest-auc:0.91041\n",
      "[14]\tTest-auc:0.91119\n",
      "[15]\tTest-auc:0.91184\n",
      "[16]\tTest-auc:0.91238\n",
      "[17]\tTest-auc:0.91295\n",
      "[18]\tTest-auc:0.91325\n",
      "[19]\tTest-auc:0.91369\n",
      "[20]\tTest-auc:0.91415\n",
      "[21]\tTest-auc:0.91436\n",
      "[22]\tTest-auc:0.91503\n",
      "[23]\tTest-auc:0.91538\n",
      "[24]\tTest-auc:0.91570\n",
      "[25]\tTest-auc:0.91599\n",
      "[26]\tTest-auc:0.91664\n",
      "[27]\tTest-auc:0.91665\n",
      "[28]\tTest-auc:0.91709\n",
      "[29]\tTest-auc:0.91753\n",
      "[30]\tTest-auc:0.91759\n",
      "[31]\tTest-auc:0.91860\n",
      "[32]\tTest-auc:0.91889\n",
      "[33]\tTest-auc:0.91918\n",
      "[34]\tTest-auc:0.91940\n",
      "[35]\tTest-auc:0.91957\n",
      "[36]\tTest-auc:0.92032\n",
      "[37]\tTest-auc:0.92037\n",
      "[38]\tTest-auc:0.92051\n",
      "[39]\tTest-auc:0.92055\n",
      "[40]\tTest-auc:0.92063\n",
      "[41]\tTest-auc:0.92087\n",
      "[42]\tTest-auc:0.92103\n",
      "[43]\tTest-auc:0.92156\n",
      "[44]\tTest-auc:0.92180\n",
      "[45]\tTest-auc:0.92207\n",
      "[46]\tTest-auc:0.92259\n",
      "[47]\tTest-auc:0.92273\n",
      "[48]\tTest-auc:0.92292\n",
      "[49]\tTest-auc:0.92332\n",
      "[50]\tTest-auc:0.92353\n",
      "[51]\tTest-auc:0.92363\n",
      "[52]\tTest-auc:0.92376\n",
      "[53]\tTest-auc:0.92389\n",
      "[54]\tTest-auc:0.92395\n",
      "[55]\tTest-auc:0.92432\n",
      "[56]\tTest-auc:0.92432\n",
      "[57]\tTest-auc:0.92461\n",
      "[58]\tTest-auc:0.92467\n",
      "[59]\tTest-auc:0.92483\n",
      "[60]\tTest-auc:0.92509\n",
      "[61]\tTest-auc:0.92519\n",
      "[62]\tTest-auc:0.92524\n",
      "[63]\tTest-auc:0.92533\n",
      "[64]\tTest-auc:0.92535\n",
      "[65]\tTest-auc:0.92545\n",
      "[66]\tTest-auc:0.92540\n",
      "[67]\tTest-auc:0.92559\n",
      "[68]\tTest-auc:0.92570\n",
      "[69]\tTest-auc:0.92575\n",
      "[70]\tTest-auc:0.92584\n",
      "[71]\tTest-auc:0.92583\n",
      "[72]\tTest-auc:0.92603\n",
      "[73]\tTest-auc:0.92614\n",
      "[74]\tTest-auc:0.92630\n",
      "[75]\tTest-auc:0.92633\n",
      "[76]\tTest-auc:0.92630\n",
      "[77]\tTest-auc:0.92628\n",
      "[78]\tTest-auc:0.92634\n",
      "[79]\tTest-auc:0.92633\n",
      "[80]\tTest-auc:0.92650\n",
      "[81]\tTest-auc:0.92662\n",
      "[82]\tTest-auc:0.92665\n",
      "[83]\tTest-auc:0.92662\n",
      "[84]\tTest-auc:0.92666\n",
      "[85]\tTest-auc:0.92668\n",
      "[86]\tTest-auc:0.92683\n",
      "[87]\tTest-auc:0.92689\n",
      "[88]\tTest-auc:0.92691\n",
      "[89]\tTest-auc:0.92692\n",
      "[90]\tTest-auc:0.92705\n",
      "[91]\tTest-auc:0.92705\n",
      "[92]\tTest-auc:0.92714\n",
      "[93]\tTest-auc:0.92726\n",
      "[94]\tTest-auc:0.92726\n",
      "[95]\tTest-auc:0.92729\n",
      "[96]\tTest-auc:0.92729\n",
      "[97]\tTest-auc:0.92736\n",
      "[98]\tTest-auc:0.92737\n",
      "[99]\tTest-auc:0.92744\n"
     ]
    }
   ],
   "source": [
    "model = xgb.train(\n",
    "    params={\"objective\": \"binary:logistic\",  # Classificação binária\n",
    "    \"eval_metric\": \"auc\",        # Métrica de avaliação\n",
    "    \"eta\": 0.1,                      # Taxa de aprendizado (equivalente a learning_rate)\n",
    "    \"max_depth\": 6,                   # Profundidade das árvores\n",
    "    \"nthread\": -1},\n",
    "    dtrain=train_dmatrix,\n",
    "    num_boost_round=100,\n",
    "    evals=[(test_dmatrix, \"Test\")]\n",
    ")"
   ]
  },
  {
   "cell_type": "code",
   "execution_count": 83,
   "metadata": {},
   "outputs": [],
   "source": [
    "y_pred = model.predict(test_dmatrix)\n",
    "y_pred_binary = np.where(y_pred > 0.5, 1, 0)"
   ]
  },
  {
   "cell_type": "markdown",
   "metadata": {},
   "source": [
    "AUC sem usar funcao do sklear"
   ]
  },
  {
   "cell_type": "code",
   "execution_count": 84,
   "metadata": {},
   "outputs": [],
   "source": [
    "eval_results = model.eval_set(\n",
    "            evals=[(test_dmatrix, \"valid\")],\n",
    "            iteration=model.num_boosted_rounds() - 1,\n",
    "        )\n",
    "auc = round(float(eval_results.split(\"\\t\")[1].split(\":\")[1]), 4)"
   ]
  },
  {
   "cell_type": "code",
   "execution_count": 85,
   "metadata": {},
   "outputs": [
    {
     "data": {
      "text/plain": [
       "0.9274"
      ]
     },
     "execution_count": 85,
     "metadata": {},
     "output_type": "execute_result"
    }
   ],
   "source": [
    "auc"
   ]
  },
  {
   "cell_type": "markdown",
   "metadata": {},
   "source": [
    "AUC com sklearn"
   ]
  },
  {
   "cell_type": "code",
   "execution_count": 86,
   "metadata": {},
   "outputs": [
    {
     "data": {
      "text/plain": [
       "0.9274362305413004"
      ]
     },
     "execution_count": 86,
     "metadata": {},
     "output_type": "execute_result"
    }
   ],
   "source": [
    "roc_auc_score(y_test, y_pred)"
   ]
  },
  {
   "cell_type": "code",
   "execution_count": 87,
   "metadata": {},
   "outputs": [
    {
     "name": "stdout",
     "output_type": "stream",
     "text": [
      "Accuracy: 0.8746391499293655\n",
      "\n",
      "Classification Report:\n",
      "               precision    recall  f1-score   support\n",
      "\n",
      "       <=50K       0.89      0.95      0.92     12435\n",
      "        >50K       0.79      0.64      0.71      3846\n",
      "\n",
      "    accuracy                           0.87     16281\n",
      "   macro avg       0.84      0.79      0.81     16281\n",
      "weighted avg       0.87      0.87      0.87     16281\n",
      "\n",
      "ROC-AUC: 0.9274362305413004\n",
      "f1_score_macro: 0.8136916070144624\n",
      "f1_score_micro: 0.8746391499293655\n",
      "f1_score_weighted: 0.869907075882171\n",
      "f1_score_none: [0.92025163 0.70713158]\n"
     ]
    }
   ],
   "source": [
    "print(\"Accuracy:\", accuracy_score(y_test, y_pred_binary))\n",
    "print(\"\\nClassification Report:\\n\", classification_report(y_test, y_pred_binary, target_names=label_encoder.classes_))\n",
    "print(\"ROC-AUC:\", roc_auc_score(y_test, y_pred))\n",
    "print(\"f1_score_macro:\", f1_score(y_test, y_pred_binary, average='macro'))\n",
    "print(\"f1_score_micro:\", f1_score(y_test, y_pred_binary, average='micro'))\n",
    "print(\"f1_score_weighted:\", f1_score(y_test, y_pred_binary, average='weighted'))\n",
    "print(\"f1_score_none:\", f1_score(y_test, y_pred_binary, average=None))"
   ]
  },
  {
   "cell_type": "markdown",
   "metadata": {},
   "source": [
    "#### Hyperparameter tunning XGBoost"
   ]
  },
  {
   "cell_type": "code",
   "execution_count": null,
   "metadata": {},
   "outputs": [],
   "source": [
    "# Define the parameter grid\n",
    "param_grid = {\n",
    "    \"n_estimators\": [100, 200, 300, 500],\n",
    "    \"max_depth\": [3, 5, 7, 10],\n",
    "    \"learning_rate\": [0.01, 0.05, 0.1, 0.2],\n",
    "    \"subsample\": [0.6, 0.8, 1.0],\n",
    "    \"colsample_bytree\": [0.6, 0.8, 1.0],\n",
    "    \"gamma\": [0, 0.1, 0.2, 0.5],\n",
    "    \"reg_alpha\": [0, 0.01, 0.1, 1],\n",
    "    \"reg_lambda\": [0.1, 1, 10]\n",
    "}\n",
    "\n",
    "# Preprocess the data\n",
    "X_train_preprocessed = preprocessor.fit_transform(X_train)\n",
    "X_test_preprocessed = preprocessor.transform(X_test)\n",
    "\n",
    "class SklearnXGBClassifier(XGBClassifier):\n",
    "    def __sklearn_tags__(self):\n",
    "        return {}\n",
    "\n",
    "# Create the model\n",
    "xgb = SklearnXGBClassifier(use_label_encoder=False, eval_metric=\"logloss\", random_state=42)\n",
    "\n",
    "# Use RandomizedSearchCV\n",
    "random_search = RandomizedSearchCV(\n",
    "    estimator=xgb,\n",
    "    param_distributions=param_grid,\n",
    "    n_iter=50,  # Number of random combinations to try\n",
    "    scoring=\"accuracy\",\n",
    "    cv=3,  # 3-fold cross-validation\n",
    "    verbose=2,\n",
    "    random_state=42,\n",
    "    n_jobs=-1  # Use all processors\n",
    ")\n",
    "\n",
    "\n",
    "# Fit RandomizedSearchCV on training data\n",
    "random_search.fit(X_train_preprocessed, y_train)\n",
    "\n",
    "# Best parameters and model evaluation\n",
    "print(\"Best Parameters:\", random_search.best_params_)\n",
    "\n",
    "# Make predictions\n",
    "best_model = random_search.best_estimator_\n",
    "y_pred = best_model.predict(X_test_preprocessed)\n",
    "\n",
    "# Evaluate the performance\n",
    "print(\"Accuracy:\", accuracy_score(y_test, y_pred))\n",
    "print(\"\\nClassification Report:\\n\", classification_report(y_test, y_pred, target_names=label_encoder.classes_))\n"
   ]
  },
  {
   "cell_type": "markdown",
   "metadata": {},
   "source": [
    "#### Federated"
   ]
  },
  {
   "cell_type": "code",
   "execution_count": 35,
   "metadata": {},
   "outputs": [],
   "source": [
    "from flwr_datasets.partitioner import IidPartitioner, DirichletPartitioner\n",
    "from flwr_datasets import FederatedDataset\n",
    "import xgboost as xgb\n",
    "from sklearn.preprocessing import OrdinalEncoder\n",
    "import pandas as pd\n",
    "from sklearn.metrics import accuracy_score, f1_score"
   ]
  },
  {
   "cell_type": "code",
   "execution_count": 115,
   "metadata": {},
   "outputs": [],
   "source": [
    "num_clients = 4"
   ]
  },
  {
   "cell_type": "code",
   "execution_count": 84,
   "metadata": {},
   "outputs": [],
   "source": [
    "#Se for particionar de maneira IID\n",
    "partitioner = IidPartitioner(num_partitions=num_clients)"
   ]
  },
  {
   "cell_type": "code",
   "execution_count": 129,
   "metadata": {},
   "outputs": [],
   "source": [
    "#Se for particionar de maneira Nao IID\n",
    "partitioner = DirichletPartitioner(\n",
    "                num_partitions=num_clients,\n",
    "                partition_by=\"income\",\n",
    "                alpha=0.1,\n",
    "                min_partition_size=30,\n",
    "                self_balancing=False\n",
    "                )"
   ]
  },
  {
   "cell_type": "code",
   "execution_count": 130,
   "metadata": {},
   "outputs": [],
   "source": [
    "# Create a FederatedDataset\n",
    "fds = FederatedDataset(\n",
    "            dataset=\"scikit-learn/adult-census-income\",\n",
    "            partitioners={\"train\": partitioner},\n",
    "        )"
   ]
  },
  {
   "cell_type": "code",
   "execution_count": 131,
   "metadata": {},
   "outputs": [],
   "source": [
    "# Load the partitions\n",
    "partitions = [fds.load_partition(i, split=\"train\") for i in range(num_clients)]"
   ]
  },
  {
   "cell_type": "code",
   "execution_count": 132,
   "metadata": {},
   "outputs": [],
   "source": [
    "# Split each partition into train and test sets\n",
    "splits = [partition.train_test_split(test_size=0.2, seed=42) for partition in partitions]\n",
    "\n",
    "# Separate train and test splits into lists\n",
    "train_partitions = [split[\"train\"] for split in splits]\n",
    "test_partitions = [split[\"test\"] for split in splits]\n"
   ]
  },
  {
   "cell_type": "code",
   "execution_count": 133,
   "metadata": {},
   "outputs": [],
   "source": [
    "# Convert each partition to a pandas DataFrame\n",
    "train_partitions_df = [partition.to_pandas() for partition in train_partitions]\n",
    "test_partitions_df = [partition.to_pandas() for partition in test_partitions]"
   ]
  },
  {
   "cell_type": "code",
   "execution_count": 134,
   "metadata": {},
   "outputs": [],
   "source": [
    "# Combine train and test dataframes, para que o encoder capte todas categorias\n",
    "combined_data_dfs = [pd.concat([train, test]) for train, test in zip(train_partitions_df, test_partitions_df)]"
   ]
  },
  {
   "cell_type": "code",
   "execution_count": 135,
   "metadata": {},
   "outputs": [],
   "source": [
    "categorical_cols = combined_data_dfs[0].select_dtypes(include=[\"object\"]).columns"
   ]
  },
  {
   "cell_type": "code",
   "execution_count": 136,
   "metadata": {},
   "outputs": [],
   "source": [
    "ordinal_encoder = OrdinalEncoder()"
   ]
  },
  {
   "cell_type": "code",
   "execution_count": 137,
   "metadata": {},
   "outputs": [],
   "source": [
    "# Encode categorical columns em cada particao de treino e teste\n",
    "for i in range(num_clients):\n",
    "    combined_data_dfs[i][categorical_cols] = ordinal_encoder.fit_transform(combined_data_dfs[i][categorical_cols])\n",
    "    train_partitions_df[i][categorical_cols] = ordinal_encoder.transform(train_partitions_df[i][categorical_cols])\n",
    "    test_partitions_df[i][categorical_cols] = ordinal_encoder.transform(test_partitions_df[i][categorical_cols])"
   ]
  },
  {
   "cell_type": "code",
   "execution_count": 138,
   "metadata": {},
   "outputs": [],
   "source": [
    "# Create DMatrixes for each partition\n",
    "train_dmatrixes = []\n",
    "test_dmatrixes = []\n",
    "\n",
    "for partition in train_partitions_df:\n",
    "    X_train = partition.drop(columns=[\"income\"]).values\n",
    "    y_train = partition[\"income\"].values\n",
    "    train_dmatrix = xgb.DMatrix(data=X_train, label=y_train)\n",
    "    train_dmatrixes.append(train_dmatrix)\n",
    "\n",
    "for partition in test_partitions_df:\n",
    "    X_test = partition.drop(columns=[\"income\"]).values\n",
    "    y_test = partition[\"income\"].values\n",
    "    test_dmatrix = xgb.DMatrix(data=X_test, label=y_test)\n",
    "    test_dmatrixes.append(test_dmatrix)"
   ]
  },
  {
   "cell_type": "code",
   "execution_count": 139,
   "metadata": {},
   "outputs": [],
   "source": [
    "# Load saved model\n",
    "with open(\"../global_model_1.json\", \"r\") as f:  # Change round number as needed\n",
    "    model_str = f.read()\n",
    "    \n",
    "# Convert string back to bytes\n",
    "model_bytes = model_str.encode(\"utf-8\")\n",
    "\n",
    "# Define XGBoost parameters as dictionary\n",
    "xgb_params = {\n",
    "    'objective': 'binary:logistic',\n",
    "    'eta': 0.1,\n",
    "    'max_depth': 8,\n",
    "    'eval_metric': 'auc',\n",
    "    'nthread': 16,\n",
    "    'num_parallel_tree': 1,\n",
    "    'subsample': 1,\n",
    "    'tree_method': 'hist'\n",
    "}\n",
    "\n",
    "# Create new booster and load model\n",
    "bst = xgb.Booster(params=xgb_params)\n",
    "bst.load_model(bytearray(model_bytes))"
   ]
  },
  {
   "cell_type": "code",
   "execution_count": 140,
   "metadata": {},
   "outputs": [
    {
     "name": "stdout",
     "output_type": "stream",
     "text": [
      "AUC: nan\n",
      "Accuracy: 1.0\n",
      "F1 Score: 1.0\n",
      "Partition weight: 1059\n",
      "AUC: 0.8942\n",
      "Accuracy: 0.9983311081441922\n",
      "F1 Score: 0.4995824285952898\n",
      "Partition weight: 2996\n",
      "AUC: nan\n",
      "Accuracy: 1.0\n",
      "F1 Score: 1.0\n",
      "Partition weight: 1526\n",
      "AUC: 0.8733\n",
      "Accuracy: 0.962486602357985\n",
      "F1 Score: 0.4904423812124522\n",
      "Partition weight: 933\n"
     ]
    },
    {
     "name": "stderr",
     "output_type": "stream",
     "text": [
      "/Users/Mara/miniconda3/envs/XGBoostFed/lib/python3.10/site-packages/xgboost/core.py:158: UserWarning: [10:12:41] WARNING: /Users/runner/work/xgboost/xgboost/src/metric/auc.cc:324: Dataset is empty, or contains only positive or negative samples.\n",
      "  warnings.warn(smsg, UserWarning)\n",
      "/Users/Mara/miniconda3/envs/XGBoostFed/lib/python3.10/site-packages/xgboost/core.py:158: UserWarning: [10:12:41] WARNING: /Users/runner/work/xgboost/xgboost/src/metric/auc.cc:324: Dataset is empty, or contains only positive or negative samples.\n",
      "  warnings.warn(smsg, UserWarning)\n"
     ]
    }
   ],
   "source": [
    "# Calcula metricas para cada particao\n",
    "total_weighted_acc = 0\n",
    "total_weighted_f1 = 0\n",
    "len_test_partitions = 0\n",
    "for test_dmatrix in test_dmatrixes:\n",
    "    eval_results = bst.eval_set(\n",
    "        evals=[(test_dmatrix, \"valid\")],\n",
    "        iteration=bst.num_boosted_rounds() - 1,\n",
    "    )\n",
    "    auc = round(float(eval_results.split(\"\\t\")[1].split(\":\")[1]), 4)\n",
    "    print(f\"AUC: {auc}\")\n",
    "    acc = accuracy_score(\n",
    "                test_dmatrix.get_label(),\n",
    "                bst.predict(test_dmatrix) > 0.5,\n",
    "            )\n",
    "    print(f\"Accuracy: {acc}\")\n",
    "    f1 = f1_score(\n",
    "                test_dmatrix.get_label(),\n",
    "                bst.predict(test_dmatrix) > 0.5,\n",
    "                average=\"macro\"\n",
    "            )\n",
    "    print(f\"F1 Score: {f1}\")\n",
    "    total_weighted_acc += acc * len(test_dmatrix.get_label())\n",
    "    total_weighted_f1 += f1 * len(test_dmatrix.get_label())\n",
    "    print(f\"Partition weight: {len(test_dmatrix.get_label())}\")\n",
    "    len_test_partitions += len(test_dmatrix.get_label())"
   ]
  },
  {
   "cell_type": "code",
   "execution_count": 141,
   "metadata": {},
   "outputs": [
    {
     "name": "stdout",
     "output_type": "stream",
     "text": [
      "Average Accuracy: 0.9938593797973595\n",
      "Average F1 Score: 0.6968577982411278\n"
     ]
    }
   ],
   "source": [
    "#Calcula media das metricas de cada particao\n",
    "avg_acc = total_weighted_acc / len_test_partitions\n",
    "avg_f1 = total_weighted_f1 / len_test_partitions\n",
    "\n",
    "print(f\"Average Accuracy: {avg_acc}\")\n",
    "print(f\"Average F1 Score: {avg_f1}\")"
   ]
  }
 ],
 "metadata": {
  "kernelspec": {
   "display_name": "XGBoostFed",
   "language": "python",
   "name": "python3"
  },
  "language_info": {
   "codemirror_mode": {
    "name": "ipython",
    "version": 3
   },
   "file_extension": ".py",
   "mimetype": "text/x-python",
   "name": "python",
   "nbconvert_exporter": "python",
   "pygments_lexer": "ipython3",
   "version": "3.10.16"
  }
 },
 "nbformat": 4,
 "nbformat_minor": 2
}
