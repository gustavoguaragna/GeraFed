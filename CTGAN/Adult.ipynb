{
 "cells": [
  {
   "cell_type": "markdown",
   "metadata": {},
   "source": [
    "### Centralizado"
   ]
  },
  {
   "cell_type": "markdown",
   "metadata": {},
   "source": [
    "#### Importações"
   ]
  },
  {
   "cell_type": "code",
   "execution_count": 2,
   "metadata": {},
   "outputs": [],
   "source": [
    "import pandas as pd\n",
    "from sklearn.model_selection import train_test_split\n",
    "from sklearn.preprocessing import OneHotEncoder, StandardScaler, LabelEncoder\n",
    "from sklearn.compose import ColumnTransformer\n",
    "from sklearn.pipeline import Pipeline\n",
    "from sklearn.linear_model import LogisticRegression\n",
    "from sklearn.ensemble import RandomForestClassifier\n",
    "from xgboost import XGBClassifier\n",
    "from sklearn.metrics import accuracy_score, classification_report, roc_auc_score, f1_score\n",
    "from sklearn.model_selection import RandomizedSearchCV\n",
    "from ctgan import CTGAN\n",
    "import numpy as np"
   ]
  },
  {
   "cell_type": "markdown",
   "metadata": {},
   "source": [
    "#### Carrega e pré processa os dados"
   ]
  },
  {
   "cell_type": "code",
   "execution_count": 3,
   "metadata": {},
   "outputs": [],
   "source": [
    "# Column names for the dataset\n",
    "columns = [\n",
    "    \"age\", \"workclass\", \"fnlwgt\", \"education\", \"education.num\",\n",
    "    \"marital.status\", \"occupation\", \"relationship\", \"race\", \"sex\",\n",
    "    \"capital.gain\", \"capital.loss\", \"hours.per.week\", \"native.country\", \"income\"\n",
    "]\n",
    "\n",
    "# Load the Adult dataset\n",
    "train_url = \"https://archive.ics.uci.edu/ml/machine-learning-databases/adult/adult.data\"\n",
    "test_url = \"https://archive.ics.uci.edu/ml/machine-learning-databases/adult/adult.test\"\n",
    "\n",
    "# Load training data\n",
    "train_data = pd.read_csv(train_url, header=None, names=columns, na_values=[\"?\"], skipinitialspace=True)\n",
    "\n",
    "# Load test data\n",
    "test_data = pd.read_csv(test_url, header=None, names=columns, na_values=[\"?\"], skipinitialspace=True, skiprows=1)\n",
    "test_data[\"income\"] = test_data[\"income\"].str.strip(\".\")  # Clean income column in test set\n",
    "\n",
    "# Remove the 'fnlwgt' column\n",
    "train_data = train_data.drop(columns=['fnlwgt', 'education.num'])\n",
    "test_data = test_data.drop(columns=['fnlwgt', 'education.num'])"
   ]
  },
  {
   "cell_type": "code",
   "execution_count": 4,
   "metadata": {},
   "outputs": [],
   "source": [
    "# Retirando numeros sem sentido para criacao de dados sinteticos\n",
    "train_data['capital.gain'] = train_data['capital.gain'].astype(int)\n",
    "test_data['capital.gain'] = test_data['capital.gain'].astype(int)\n",
    "train_data = train_data[train_data['capital.gain'] != 99999]\n",
    "test_data = test_data[test_data['capital.gain'] != 99999]"
   ]
  },
  {
   "cell_type": "markdown",
   "metadata": {},
   "source": [
    "#### Geração de dados sintéticos"
   ]
  },
  {
   "cell_type": "code",
   "execution_count": 5,
   "metadata": {},
   "outputs": [],
   "source": [
    "discrete_columns = train_data.select_dtypes(include=[\"object\"]).columns"
   ]
  },
  {
   "cell_type": "code",
   "execution_count": 6,
   "metadata": {},
   "outputs": [],
   "source": [
    "ctgan = CTGAN(epochs=1)\n",
    "ctgan.fit(train_data, discrete_columns)"
   ]
  },
  {
   "cell_type": "code",
   "execution_count": 7,
   "metadata": {},
   "outputs": [],
   "source": [
    "syndata = ctgan.sample(20000)"
   ]
  },
  {
   "cell_type": "code",
   "execution_count": 8,
   "metadata": {},
   "outputs": [],
   "source": [
    "# Remove 1000 random samples from train_data\n",
    "train_data = train_data.drop(train_data.sample(n=20000).index)"
   ]
  },
  {
   "cell_type": "markdown",
   "metadata": {},
   "source": [
    "#### Transformações para modelagem"
   ]
  },
  {
   "cell_type": "code",
   "execution_count": 9,
   "metadata": {},
   "outputs": [],
   "source": [
    "# Combine train and test data for consistent preprocessing\n",
    "data = pd.concat([train_data, syndata, test_data], axis=0, ignore_index=True) #adicione e remova train_data e syndata para treinar ou nao com dados reais e sinteticos\n",
    "\n",
    "# Combinar categorias da variável 'native.country'\n",
    "data['native.country'] = data['native.country'].replace({\n",
    "    country: 'Other' for country in data['native.country'].unique() if country != 'United-States'\n",
    "})\n",
    "\n",
    "# Encode the target variable\n",
    "label_encoder = LabelEncoder()\n",
    "data[\"income\"] = label_encoder.fit_transform(data[\"income\"])  # Encodes '<=50K' as 0 and '>50K' as 1\n",
    "\n",
    "\n",
    "# Split features and target\n",
    "X = data.drop(columns=[\"income\"])\n",
    "y = data[\"income\"]\n",
    "\n",
    "# Label Encoding para education, sex e race\n",
    "for col in [\"education\", \"sex\", \"native.country\"]:\n",
    "    le = LabelEncoder()\n",
    "    X[col] = le.fit_transform(X[col])\n",
    "\n",
    "# Define categorical and numerical columns\n",
    "categorical_columns = X.select_dtypes(include=[\"object\"]).columns\n",
    "numerical_columns = X.select_dtypes(include=[\"int64\", \"float64\"]).columns\n",
    "\n",
    "# Preprocessing pipeline\n",
    "preprocessor = ColumnTransformer(\n",
    "    transformers=[\n",
    "        (\"num\", StandardScaler(), numerical_columns),  # Scale numerical features\n",
    "        (\"cat\", OneHotEncoder(handle_unknown=\"ignore\"), categorical_columns),  # One-hot encode categorical features\n",
    "    ],\n",
    "    remainder=\"passthrough\"\n",
    ")\n",
    "\n",
    "# Split back into train and test sets\n",
    "X_train, X_test, y_train, y_test = train_test_split(X, y, test_size=len(test_data), shuffle=False)"
   ]
  },
  {
   "cell_type": "markdown",
   "metadata": {},
   "source": [
    "#### Pipeline para Regressão Logística"
   ]
  },
  {
   "cell_type": "code",
   "execution_count": 60,
   "metadata": {},
   "outputs": [],
   "source": [
    "# Create a pipeline with preprocessing and classifier\n",
    "pipeline = Pipeline([\n",
    "    (\"preprocessor\", preprocessor),\n",
    "    (\"classifier\", LogisticRegression(max_iter=1000)),\n",
    "])"
   ]
  },
  {
   "cell_type": "markdown",
   "metadata": {},
   "source": [
    "#### Pipeline para Random Forest"
   ]
  },
  {
   "cell_type": "code",
   "execution_count": 62,
   "metadata": {},
   "outputs": [],
   "source": [
    "# Create a pipeline with preprocessing and Random Forest classifier\n",
    "pipeline = Pipeline([\n",
    "    (\"preprocessor\", preprocessor),\n",
    "    (\"classifier\", RandomForestClassifier(n_estimators=100, random_state=42, n_jobs=-1)),\n",
    "])"
   ]
  },
  {
   "cell_type": "markdown",
   "metadata": {},
   "source": [
    "#### Treina o modelo"
   ]
  },
  {
   "cell_type": "code",
   "execution_count": 63,
   "metadata": {},
   "outputs": [
    {
     "name": "stdout",
     "output_type": "stream",
     "text": [
      "Accuracy: 0.8468153061851238\n",
      "\n",
      "Classification Report:\n",
      "               precision    recall  f1-score   support\n",
      "\n",
      "       <=50K       0.88      0.92      0.90     12435\n",
      "        >50K       0.71      0.60      0.65      3846\n",
      "\n",
      "    accuracy                           0.85     16281\n",
      "   macro avg       0.79      0.76      0.78     16281\n",
      "weighted avg       0.84      0.85      0.84     16281\n",
      "\n",
      "ROC AUC: 0.7621508913432532\n",
      "F1 Score: 0.6498174670036506\n"
     ]
    }
   ],
   "source": [
    "# Train the model\n",
    "pipeline.fit(X_train, y_train)\n",
    "\n",
    "# Make predictions\n",
    "y_pred = pipeline.predict(X_test)\n",
    "\n",
    "# Evaluate the model\n",
    "print(\"Accuracy:\", accuracy_score(y_test, y_pred))\n",
    "print(\"\\nClassification Report:\\n\", classification_report(y_test, y_pred, target_names=label_encoder.classes_))\n",
    "print(\"ROC AUC:\", roc_auc_score(y_test, y_pred))\n",
    "print(\"F1 Score:\", f1_score(y_test, y_pred))\n"
   ]
  },
  {
   "cell_type": "markdown",
   "metadata": {},
   "source": [
    "#### Hyperparameter tunning Random Forest"
   ]
  },
  {
   "cell_type": "code",
   "execution_count": null,
   "metadata": {},
   "outputs": [],
   "source": [
    "# Define the parameter grid\n",
    "param_grid = {\n",
    "    \"n_estimators\": [100, 200, 300, 500],\n",
    "    \"max_depth\": [None, 10, 20, 30, 40],\n",
    "    \"min_samples_split\": [2, 5, 10],\n",
    "    \"min_samples_leaf\": [1, 2, 4],\n",
    "    \"max_features\": [\"sqrt\", \"log2\", None],\n",
    "    \"bootstrap\": [True, False],\n",
    "}\n",
    "\n",
    "# Create the Random Forest classifier\n",
    "rf = RandomForestClassifier(random_state=42)\n",
    "\n",
    "# Use RandomizedSearchCV\n",
    "random_search = RandomizedSearchCV(\n",
    "    estimator=rf,\n",
    "    param_distributions=param_grid,\n",
    "    n_iter=50,  # Number of random combinations to try\n",
    "    scoring=\"accuracy\",\n",
    "    cv=3,  # 3-fold cross-validation\n",
    "    verbose=2,\n",
    "    random_state=42,\n",
    "    n_jobs=-1  # Use all available processors\n",
    ")\n",
    "\n",
    "# Preprocess the data\n",
    "X_train_preprocessed = preprocessor.fit_transform(X_train)\n",
    "X_test_preprocessed = preprocessor.transform(X_test)\n",
    "\n",
    "# Fit the model\n",
    "random_search.fit(X_train_preprocessed, y_train)\n",
    "\n",
    "# Best parameters\n",
    "print(\"Best Parameters:\", random_search.best_params_)\n",
    "\n",
    "# Evaluate the best model\n",
    "best_model = random_search.best_estimator_\n",
    "y_pred = best_model.predict(X_test_preprocessed)\n",
    "print(\"Accuracy:\", accuracy_score(y_test, y_pred))\n",
    "print(\"\\nClassification Report:\\n\", classification_report(y_test, y_pred))"
   ]
  },
  {
   "cell_type": "markdown",
   "metadata": {},
   "source": [
    "#### Treina XGBoost"
   ]
  },
  {
   "cell_type": "markdown",
   "metadata": {},
   "source": [
    "##### Usando XGBClassifier (mais alto nível)"
   ]
  },
  {
   "cell_type": "code",
   "execution_count": 10,
   "metadata": {},
   "outputs": [
    {
     "name": "stdout",
     "output_type": "stream",
     "text": [
      "Accuracy: 0.8603976290442085\n",
      "\n",
      "Classification Report:\n",
      "               precision    recall  f1-score   support\n",
      "\n",
      "       <=50K       0.88      0.94      0.91     12435\n",
      "        >50K       0.76      0.58      0.66      3761\n",
      "\n",
      "    accuracy                           0.86     16196\n",
      "   macro avg       0.82      0.76      0.79     16196\n",
      "weighted avg       0.85      0.86      0.85     16196\n",
      "\n",
      "ROC-AUC: 0.911107832518514\n"
     ]
    }
   ],
   "source": [
    "# Preprocess the data\n",
    "X_train_preprocessed = preprocessor.fit_transform(X_train)\n",
    "X_test_preprocessed = preprocessor.transform(X_test)\n",
    "\n",
    "# Train the XGBoost model directly\n",
    "model = XGBClassifier(eval_metric=\"logloss\", n_jobs=-1)\n",
    "model.fit(X_train_preprocessed, y_train)\n",
    "\n",
    "# Predict and evaluate\n",
    "y_pred = model.predict(X_test_preprocessed)\n",
    "\n",
    "print(\"Accuracy:\", accuracy_score(y_test, y_pred))\n",
    "print(\"\\nClassification Report:\\n\", classification_report(y_test, y_pred, target_names=label_encoder.classes_))\n",
    "print(\"ROC-AUC:\", roc_auc_score(y_test, model.predict_proba(X_test_preprocessed)[:, 1]))\n"
   ]
  },
  {
   "cell_type": "markdown",
   "metadata": {},
   "source": [
    "##### Usando xgb.train (mais baixo nível)"
   ]
  },
  {
   "cell_type": "code",
   "execution_count": 11,
   "metadata": {},
   "outputs": [],
   "source": [
    "import xgboost as xgb"
   ]
  },
  {
   "cell_type": "code",
   "execution_count": 12,
   "metadata": {},
   "outputs": [],
   "source": [
    "train_dmatrix = xgb.DMatrix(data=X_train_preprocessed, label=y_train)"
   ]
  },
  {
   "cell_type": "code",
   "execution_count": 13,
   "metadata": {},
   "outputs": [],
   "source": [
    "test_dmatrix = xgb.DMatrix(data=X_test_preprocessed, label=y_test)"
   ]
  },
  {
   "cell_type": "code",
   "execution_count": 14,
   "metadata": {},
   "outputs": [
    {
     "name": "stdout",
     "output_type": "stream",
     "text": [
      "[0]\tTest-auc:0.84761\n",
      "[1]\tTest-auc:0.86934\n",
      "[2]\tTest-auc:0.88136\n",
      "[3]\tTest-auc:0.88562\n",
      "[4]\tTest-auc:0.88871\n",
      "[5]\tTest-auc:0.89105\n",
      "[6]\tTest-auc:0.89183\n",
      "[7]\tTest-auc:0.89255\n",
      "[8]\tTest-auc:0.89285\n",
      "[9]\tTest-auc:0.89345\n",
      "[10]\tTest-auc:0.89401\n",
      "[11]\tTest-auc:0.89720\n",
      "[12]\tTest-auc:0.89747\n",
      "[13]\tTest-auc:0.89778\n",
      "[14]\tTest-auc:0.89825\n",
      "[15]\tTest-auc:0.89867\n",
      "[16]\tTest-auc:0.89887\n",
      "[17]\tTest-auc:0.89970\n",
      "[18]\tTest-auc:0.89989\n",
      "[19]\tTest-auc:0.90016\n",
      "[20]\tTest-auc:0.90072\n",
      "[21]\tTest-auc:0.90112\n",
      "[22]\tTest-auc:0.90229\n",
      "[23]\tTest-auc:0.90258\n",
      "[24]\tTest-auc:0.90274\n",
      "[25]\tTest-auc:0.90295\n",
      "[26]\tTest-auc:0.90386\n",
      "[27]\tTest-auc:0.90411\n",
      "[28]\tTest-auc:0.90427\n",
      "[29]\tTest-auc:0.90504\n",
      "[30]\tTest-auc:0.90574\n",
      "[31]\tTest-auc:0.90608\n",
      "[32]\tTest-auc:0.90618\n",
      "[33]\tTest-auc:0.90622\n",
      "[34]\tTest-auc:0.90635\n",
      "[35]\tTest-auc:0.90695\n",
      "[36]\tTest-auc:0.90713\n",
      "[37]\tTest-auc:0.90719\n",
      "[38]\tTest-auc:0.90729\n",
      "[39]\tTest-auc:0.90768\n",
      "[40]\tTest-auc:0.90784\n",
      "[41]\tTest-auc:0.90792\n",
      "[42]\tTest-auc:0.90831\n",
      "[43]\tTest-auc:0.90854\n",
      "[44]\tTest-auc:0.90866\n",
      "[45]\tTest-auc:0.90877\n",
      "[46]\tTest-auc:0.90882\n",
      "[47]\tTest-auc:0.90901\n",
      "[48]\tTest-auc:0.90906\n",
      "[49]\tTest-auc:0.90912\n",
      "[50]\tTest-auc:0.90925\n",
      "[51]\tTest-auc:0.90942\n",
      "[52]\tTest-auc:0.90949\n",
      "[53]\tTest-auc:0.90951\n",
      "[54]\tTest-auc:0.90958\n",
      "[55]\tTest-auc:0.90961\n",
      "[56]\tTest-auc:0.90961\n",
      "[57]\tTest-auc:0.90972\n",
      "[58]\tTest-auc:0.90976\n",
      "[59]\tTest-auc:0.90983\n",
      "[60]\tTest-auc:0.90996\n",
      "[61]\tTest-auc:0.91008\n",
      "[62]\tTest-auc:0.91015\n",
      "[63]\tTest-auc:0.91024\n",
      "[64]\tTest-auc:0.91037\n",
      "[65]\tTest-auc:0.91047\n",
      "[66]\tTest-auc:0.91055\n",
      "[67]\tTest-auc:0.91058\n",
      "[68]\tTest-auc:0.91057\n",
      "[69]\tTest-auc:0.91058\n",
      "[70]\tTest-auc:0.91055\n",
      "[71]\tTest-auc:0.91057\n",
      "[72]\tTest-auc:0.91062\n",
      "[73]\tTest-auc:0.91062\n",
      "[74]\tTest-auc:0.91061\n",
      "[75]\tTest-auc:0.91057\n",
      "[76]\tTest-auc:0.91074\n",
      "[77]\tTest-auc:0.91078\n",
      "[78]\tTest-auc:0.91076\n",
      "[79]\tTest-auc:0.91073\n",
      "[80]\tTest-auc:0.91073\n",
      "[81]\tTest-auc:0.91077\n",
      "[82]\tTest-auc:0.91076\n",
      "[83]\tTest-auc:0.91086\n",
      "[84]\tTest-auc:0.91089\n",
      "[85]\tTest-auc:0.91091\n",
      "[86]\tTest-auc:0.91087\n",
      "[87]\tTest-auc:0.91091\n",
      "[88]\tTest-auc:0.91094\n",
      "[89]\tTest-auc:0.91090\n",
      "[90]\tTest-auc:0.91088\n",
      "[91]\tTest-auc:0.91091\n",
      "[92]\tTest-auc:0.91095\n",
      "[93]\tTest-auc:0.91095\n",
      "[94]\tTest-auc:0.91097\n",
      "[95]\tTest-auc:0.91115\n",
      "[96]\tTest-auc:0.91114\n",
      "[97]\tTest-auc:0.91117\n",
      "[98]\tTest-auc:0.91121\n",
      "[99]\tTest-auc:0.91130\n"
     ]
    }
   ],
   "source": [
    "model = xgb.train(\n",
    "    params={\"objective\": \"binary:logistic\",  # Classificação binária\n",
    "    \"eval_metric\": \"auc\",        # Métrica de avaliação\n",
    "    \"eta\": 0.1,                      # Taxa de aprendizado (equivalente a learning_rate)\n",
    "    \"max_depth\": 6,                   # Profundidade das árvores\n",
    "    \"nthread\": -1},\n",
    "    dtrain=train_dmatrix,\n",
    "    num_boost_round=100,\n",
    "    evals=[(test_dmatrix, \"Test\")]\n",
    ")"
   ]
  },
  {
   "cell_type": "code",
   "execution_count": 15,
   "metadata": {},
   "outputs": [],
   "source": [
    "y_pred = model.predict(test_dmatrix)\n",
    "y_pred_binary = np.where(y_pred > 0.5, 1, 0)"
   ]
  },
  {
   "cell_type": "markdown",
   "metadata": {},
   "source": [
    "AUC sem usar funcao do sklear"
   ]
  },
  {
   "cell_type": "code",
   "execution_count": 16,
   "metadata": {},
   "outputs": [],
   "source": [
    "eval_results = model.eval_set(\n",
    "            evals=[(test_dmatrix, \"valid\")],\n",
    "            iteration=model.num_boosted_rounds() - 1,\n",
    "        )\n",
    "auc = round(float(eval_results.split(\"\\t\")[1].split(\":\")[1]), 4)"
   ]
  },
  {
   "cell_type": "code",
   "execution_count": 18,
   "metadata": {},
   "outputs": [
    {
     "data": {
      "text/plain": [
       "0.9113"
      ]
     },
     "execution_count": 18,
     "metadata": {},
     "output_type": "execute_result"
    }
   ],
   "source": [
    "auc"
   ]
  },
  {
   "cell_type": "markdown",
   "metadata": {},
   "source": [
    "AUC com sklearn"
   ]
  },
  {
   "cell_type": "code",
   "execution_count": 17,
   "metadata": {},
   "outputs": [
    {
     "data": {
      "text/plain": [
       "0.9112973209158777"
      ]
     },
     "execution_count": 17,
     "metadata": {},
     "output_type": "execute_result"
    }
   ],
   "source": [
    "roc_auc_score(y_test, y_pred)"
   ]
  },
  {
   "cell_type": "code",
   "execution_count": 19,
   "metadata": {},
   "outputs": [
    {
     "name": "stdout",
     "output_type": "stream",
     "text": [
      "Accuracy: 0.859718448999753\n",
      "\n",
      "Classification Report:\n",
      "               precision    recall  f1-score   support\n",
      "\n",
      "       <=50K       0.88      0.95      0.91     12435\n",
      "        >50K       0.77      0.56      0.65      3761\n",
      "\n",
      "    accuracy                           0.86     16196\n",
      "   macro avg       0.83      0.75      0.78     16196\n",
      "weighted avg       0.85      0.86      0.85     16196\n",
      "\n",
      "ROC-AUC: 0.9112973209158777\n",
      "f1_score_macro: 0.7805966228253182\n",
      "f1_score_micro: 0.859718448999753\n",
      "f1_score_weighted: 0.8511603407193186\n",
      "f1_score_none: [0.91235244 0.6488408 ]\n"
     ]
    }
   ],
   "source": [
    "print(\"Accuracy:\", accuracy_score(y_test, y_pred_binary))\n",
    "print(\"\\nClassification Report:\\n\", classification_report(y_test, y_pred_binary, target_names=label_encoder.classes_))\n",
    "print(\"ROC-AUC:\", roc_auc_score(y_test, y_pred))\n",
    "print(\"f1_score_macro:\", f1_score(y_test, y_pred_binary, average='macro'))\n",
    "print(\"f1_score_micro:\", f1_score(y_test, y_pred_binary, average='micro'))\n",
    "print(\"f1_score_weighted:\", f1_score(y_test, y_pred_binary, average='weighted'))\n",
    "print(\"f1_score_none:\", f1_score(y_test, y_pred_binary, average=None))"
   ]
  },
  {
   "cell_type": "markdown",
   "metadata": {},
   "source": [
    "#### Hyperparameter tunning XGBoost"
   ]
  },
  {
   "cell_type": "code",
   "execution_count": null,
   "metadata": {},
   "outputs": [],
   "source": [
    "# Define the parameter grid\n",
    "param_grid = {\n",
    "    \"n_estimators\": [100, 200, 300, 500],\n",
    "    \"max_depth\": [3, 5, 7, 10],\n",
    "    \"learning_rate\": [0.01, 0.05, 0.1, 0.2],\n",
    "    \"subsample\": [0.6, 0.8, 1.0],\n",
    "    \"colsample_bytree\": [0.6, 0.8, 1.0],\n",
    "    \"gamma\": [0, 0.1, 0.2, 0.5],\n",
    "    \"reg_alpha\": [0, 0.01, 0.1, 1],\n",
    "    \"reg_lambda\": [0.1, 1, 10]\n",
    "}\n",
    "\n",
    "# Preprocess the data\n",
    "X_train_preprocessed = preprocessor.fit_transform(X_train)\n",
    "X_test_preprocessed = preprocessor.transform(X_test)\n",
    "\n",
    "class SklearnXGBClassifier(XGBClassifier):\n",
    "    def __sklearn_tags__(self):\n",
    "        return {}\n",
    "\n",
    "# Create the model\n",
    "xgb = SklearnXGBClassifier(use_label_encoder=False, eval_metric=\"logloss\", random_state=42)\n",
    "\n",
    "# Use RandomizedSearchCV\n",
    "random_search = RandomizedSearchCV(\n",
    "    estimator=xgb,\n",
    "    param_distributions=param_grid,\n",
    "    n_iter=50,  # Number of random combinations to try\n",
    "    scoring=\"accuracy\",\n",
    "    cv=3,  # 3-fold cross-validation\n",
    "    verbose=2,\n",
    "    random_state=42,\n",
    "    n_jobs=-1  # Use all processors\n",
    ")\n",
    "\n",
    "\n",
    "# Fit RandomizedSearchCV on training data\n",
    "random_search.fit(X_train_preprocessed, y_train)\n",
    "\n",
    "# Best parameters and model evaluation\n",
    "print(\"Best Parameters:\", random_search.best_params_)\n",
    "\n",
    "# Make predictions\n",
    "best_model = random_search.best_estimator_\n",
    "y_pred = best_model.predict(X_test_preprocessed)\n",
    "\n",
    "# Evaluate the performance\n",
    "print(\"Accuracy:\", accuracy_score(y_test, y_pred))\n",
    "print(\"\\nClassification Report:\\n\", classification_report(y_test, y_pred, target_names=label_encoder.classes_))\n"
   ]
  },
  {
   "cell_type": "markdown",
   "metadata": {},
   "source": [
    "### Federated"
   ]
  },
  {
   "cell_type": "markdown",
   "metadata": {},
   "source": [
    "#### Importacoes"
   ]
  },
  {
   "cell_type": "code",
   "execution_count": null,
   "metadata": {},
   "outputs": [
    {
     "name": "stderr",
     "output_type": "stream",
     "text": [
      "/Users/Mara/miniconda3/envs/Adult/lib/python3.10/site-packages/tqdm/auto.py:21: TqdmWarning: IProgress not found. Please update jupyter and ipywidgets. See https://ipywidgets.readthedocs.io/en/stable/user_install.html\n",
      "  from .autonotebook import tqdm as notebook_tqdm\n"
     ]
    }
   ],
   "source": [
    "from flwr_datasets.partitioner import IidPartitioner, DirichletPartitioner\n",
    "from flwr_datasets import FederatedDataset\n",
    "import xgboost as xgb\n",
    "from sklearn.preprocessing import OrdinalEncoder\n",
    "import pandas as pd\n",
    "from sklearn.metrics import accuracy_score, f1_score\n",
    "import warnings\n",
    "from sklearn.exceptions import UndefinedMetricWarning"
   ]
  },
  {
   "cell_type": "markdown",
   "metadata": {},
   "source": [
    "#### Carregamento e preprocessamento dos dados"
   ]
  },
  {
   "cell_type": "code",
   "execution_count": 21,
   "metadata": {},
   "outputs": [],
   "source": [
    "num_clients = 4"
   ]
  },
  {
   "cell_type": "code",
   "execution_count": 22,
   "metadata": {},
   "outputs": [],
   "source": [
    "#Se for particionar de maneira IID\n",
    "partitioner = IidPartitioner(num_partitions=num_clients)"
   ]
  },
  {
   "cell_type": "code",
   "execution_count": 23,
   "metadata": {},
   "outputs": [],
   "source": [
    "#Se for particionar de maneira Nao IID\n",
    "partitioner = DirichletPartitioner(\n",
    "                num_partitions=num_clients,\n",
    "                partition_by=\"income\",\n",
    "                alpha=0.1,\n",
    "                min_partition_size=30,\n",
    "                self_balancing=False\n",
    "                )"
   ]
  },
  {
   "cell_type": "code",
   "execution_count": 24,
   "metadata": {},
   "outputs": [],
   "source": [
    "# Create a FederatedDataset\n",
    "fds = FederatedDataset(\n",
    "            dataset=\"scikit-learn/adult-census-income\",\n",
    "            partitioners={\"train\": partitioner},\n",
    "        )"
   ]
  },
  {
   "cell_type": "code",
   "execution_count": 25,
   "metadata": {},
   "outputs": [],
   "source": [
    "# Load the partitions\n",
    "partitions = [fds.load_partition(i, split=\"train\") for i in range(num_clients)]"
   ]
  },
  {
   "cell_type": "code",
   "execution_count": 27,
   "metadata": {},
   "outputs": [],
   "source": [
    "# Split each partition into train and test sets\n",
    "splits = [partition.train_test_split(test_size=0.2, seed=42) for partition in partitions]\n",
    "\n",
    "# Separate train and test splits into lists\n",
    "train_partitions = [split[\"train\"] for split in splits]\n",
    "test_partitions = [split[\"test\"] for split in splits]\n"
   ]
  },
  {
   "cell_type": "code",
   "execution_count": 28,
   "metadata": {},
   "outputs": [],
   "source": [
    "# Convert each partition to a pandas DataFrame\n",
    "train_partitions_df = [partition.to_pandas() for partition in train_partitions]\n",
    "test_partitions_df = [partition.to_pandas() for partition in test_partitions]"
   ]
  },
  {
   "cell_type": "code",
   "execution_count": 29,
   "metadata": {},
   "outputs": [],
   "source": [
    "# Combine train and test dataframes, para que o encoder capte todas categorias\n",
    "combined_data_dfs = [pd.concat([train, test]) for train, test in zip(train_partitions_df, test_partitions_df)]"
   ]
  },
  {
   "cell_type": "code",
   "execution_count": 47,
   "metadata": {},
   "outputs": [],
   "source": [
    "# Para teste em desempenho global\n",
    "test_data_g = pd.read_csv(test_url, header=None, names=columns, skipinitialspace=True, skiprows=1)\n",
    "test_data_g[\"income\"] = test_data_g[\"income\"].str.strip(\".\")"
   ]
  },
  {
   "cell_type": "code",
   "execution_count": 30,
   "metadata": {},
   "outputs": [],
   "source": [
    "# Retirando numeros provavelmente incorretos\n",
    "for df in combined_data_dfs:\n",
    "    df['capital.gain'] = df['capital.gain'].astype(int)\n",
    "    df = df[df['capital.gain'] != 99999]"
   ]
  },
  {
   "cell_type": "code",
   "execution_count": 48,
   "metadata": {},
   "outputs": [],
   "source": [
    "test_data_g[\"capital.gain\"] = test_data_g[\"capital.gain\"].astype(int)\n",
    "test_data_g = test_data_g[test_data_g[\"capital.gain\"] != 99999]"
   ]
  },
  {
   "cell_type": "code",
   "execution_count": 33,
   "metadata": {},
   "outputs": [],
   "source": [
    "categorical_cols = combined_data_dfs[0].select_dtypes(include=[\"object\"]).columns"
   ]
  },
  {
   "cell_type": "code",
   "execution_count": 35,
   "metadata": {},
   "outputs": [],
   "source": [
    "# Gera dados sinteticos para cada particao\n",
    "ctgan = CTGAN(epochs=1)\n",
    "syndata = []\n",
    "for data in train_partitions_df:\n",
    "    ctgan.fit(data, categorical_cols)\n",
    "    syndata.append(ctgan.sample(1000))"
   ]
  },
  {
   "cell_type": "code",
   "execution_count": 36,
   "metadata": {},
   "outputs": [],
   "source": [
    "# Remove random samples from train_data e adiciona sintetico\n",
    "for i, df in enumerate(train_partitions_df):\n",
    "    df.drop(df.sample(n=1000).index)\n",
    "    df = pd.concat([df, syndata[i]])"
   ]
  },
  {
   "cell_type": "code",
   "execution_count": 37,
   "metadata": {},
   "outputs": [],
   "source": [
    "ordinal_encoder = OrdinalEncoder()"
   ]
  },
  {
   "cell_type": "code",
   "execution_count": 38,
   "metadata": {},
   "outputs": [],
   "source": [
    "# Encode categorical columns em cada particao de treino e teste\n",
    "for i in range(num_clients):\n",
    "    combined_data_dfs[i][categorical_cols] = ordinal_encoder.fit_transform(combined_data_dfs[i][categorical_cols])\n",
    "    train_partitions_df[i][categorical_cols] = ordinal_encoder.transform(train_partitions_df[i][categorical_cols])\n",
    "    test_partitions_df[i][categorical_cols] = ordinal_encoder.transform(test_partitions_df[i][categorical_cols])"
   ]
  },
  {
   "cell_type": "code",
   "execution_count": 49,
   "metadata": {},
   "outputs": [],
   "source": [
    "# encode no teste global\n",
    "test_data_g[categorical_cols] = ordinal_encoder.transform(test_data_g[categorical_cols])"
   ]
  },
  {
   "cell_type": "code",
   "execution_count": 40,
   "metadata": {},
   "outputs": [],
   "source": [
    "# Create DMatrixes for each partition\n",
    "train_dmatrixes = []\n",
    "test_dmatrixes = []\n",
    "\n",
    "for partition in train_partitions_df:\n",
    "    X_train = partition.drop(columns=[\"income\"]).values\n",
    "    y_train = partition[\"income\"].values\n",
    "    train_dmatrix = xgb.DMatrix(data=X_train, label=y_train)\n",
    "    train_dmatrixes.append(train_dmatrix)\n",
    "\n",
    "for partition in test_partitions_df:\n",
    "    X_test = partition.drop(columns=[\"income\"]).values\n",
    "    y_test = partition[\"income\"].values\n",
    "    test_dmatrix = xgb.DMatrix(data=X_test, label=y_test)\n",
    "    test_dmatrixes.append(test_dmatrix)"
   ]
  },
  {
   "cell_type": "code",
   "execution_count": 50,
   "metadata": {},
   "outputs": [],
   "source": [
    "# dmatrix para teste global\n",
    "X_test_g = test_data_g.drop(columns=[\"income\"]).values\n",
    "y_test_g = test_data_g[\"income\"].values\n",
    "test_dmatrix_g = xgb.DMatrix(data=X_test_g, label=y_test_g)"
   ]
  },
  {
   "cell_type": "markdown",
   "metadata": {},
   "source": [
    "#### Treinamento"
   ]
  },
  {
   "cell_type": "code",
   "execution_count": null,
   "metadata": {},
   "outputs": [],
   "source": [
    "models = [xgb.train(\n",
    "      params={\"objective\": \"binary:logistic\",  # Classificação binária\n",
    "            \"eval_metric\": \"auc\",        # Métrica de avaliação\n",
    "            \"eta\": 0.1,                      # Taxa de aprendizado (equivalente a learning_rate)\n",
    "            \"max_depth\": 6,                   # Profundidade das árvores\n",
    "            \"nthread\": -1},\n",
    "      dtrain=train_dmatrix,\n",
    "      num_boost_round=100,\n",
    "      evals=[(test_dmatrix, \"validate\")],\n",
    "  ) for train_dmatrix, test_dmatrix in zip(train_dmatrixes, test_dmatrixes)]"
   ]
  },
  {
   "cell_type": "code",
   "execution_count": 43,
   "metadata": {},
   "outputs": [
    {
     "name": "stdout",
     "output_type": "stream",
     "text": [
      "\n",
      "🔹 Estatísticas Básicas de y_pred\n",
      "--------------------------------------------------\n",
      "📌 Média: 0.00023408809\n",
      "📌 Mediana: 0.00023408807\n",
      "📌 Q1 (1º Quartil - 25%): 0.0002340880746487528\n",
      "📌 Q2 (Mediana - 50%): 0.0002340880746487528\n",
      "📌 Q3 (3º Quartil - 75%): 0.0002340880746487528\n",
      "📌 Desvio Padrão: 1.4551915e-11\n",
      "📌 Variância: 2.1175824e-22\n",
      "📌 Mínimo: 0.00023408807\n",
      "📌 Máximo: 0.00023408807\n",
      "\n",
      "🔹 Estatísticas Básicas de y_pred\n",
      "--------------------------------------------------\n",
      "📌 Média: 0.0019344116\n",
      "📌 Mediana: 0.00017763772\n",
      "📌 Q1 (1º Quartil - 25%): 8.198329305741936e-05\n",
      "📌 Q2 (Mediana - 50%): 0.0001776377175701782\n",
      "📌 Q3 (3º Quartil - 75%): 0.0005713249993277714\n",
      "📌 Desvio Padrão: 0.017157607\n",
      "📌 Variância: 0.0002943835\n",
      "📌 Mínimo: 3.740869e-05\n",
      "📌 Máximo: 0.57996666\n",
      "\n",
      "🔹 Estatísticas Básicas de y_pred\n",
      "--------------------------------------------------\n",
      "📌 Média: 0.00015968108\n",
      "📌 Mediana: 0.00015968109\n",
      "📌 Q1 (1º Quartil - 25%): 0.00015968109073583037\n",
      "📌 Q2 (Mediana - 50%): 0.00015968109073583037\n",
      "📌 Q3 (3º Quartil - 75%): 0.00015968109073583037\n",
      "📌 Desvio Padrão: 1.4551915e-11\n",
      "📌 Variância: 2.1175824e-22\n",
      "📌 Mínimo: 0.00015968109\n",
      "📌 Máximo: 0.00015968109\n",
      "\n",
      "🔹 Estatísticas Básicas de y_pred\n",
      "--------------------------------------------------\n",
      "📌 Média: 0.028528657\n",
      "📌 Mediana: 0.0026057642\n",
      "📌 Q1 (1º Quartil - 25%): 0.000698827498126775\n",
      "📌 Q2 (Mediana - 50%): 0.0026057641953229904\n",
      "📌 Q3 (3º Quartil - 75%): 0.012248235754668713\n",
      "📌 Desvio Padrão: 0.09962146\n",
      "📌 Variância: 0.009924435\n",
      "📌 Mínimo: 0.00014945913\n",
      "📌 Máximo: 0.9929363\n"
     ]
    }
   ],
   "source": [
    "# Estatisticas basicas de predicao\n",
    "for i, (model, test_dmatrix) in enumerate(zip(models, test_dmatrixes)):\n",
    "    y_pred = model.predict(test_dmatrix)\n",
    "    print(\"\\n🔹 Estatísticas Básicas de y_pred\")\n",
    "    print(\"-\" * 50)\n",
    "    print(\"📌 Média:\", np.mean(y_pred))\n",
    "    print(\"📌 Mediana:\", np.median(y_pred))\n",
    "    print(\"📌 Q1 (1º Quartil - 25%):\", np.percentile(y_pred, 25))\n",
    "    print(\"📌 Q2 (Mediana - 50%):\", np.percentile(y_pred, 50))\n",
    "    print(\"📌 Q3 (3º Quartil - 75%):\", np.percentile(y_pred, 75))\n",
    "    print(\"📌 Desvio Padrão:\", np.std(y_pred))\n",
    "    print(\"📌 Variância:\", np.var(y_pred))\n",
    "    print(\"📌 Mínimo:\", np.min(y_pred))\n",
    "    print(\"📌 Máximo:\", np.max(y_pred))"
   ]
  },
  {
   "cell_type": "code",
   "execution_count": 51,
   "metadata": {},
   "outputs": [
    {
     "name": "stdout",
     "output_type": "stream",
     "text": [
      "\n",
      "🔹 Estatísticas Básicas de y_pred_g\n",
      "--------------------------------------------------\n",
      "📌 Média: 0.08053482\n",
      "📌 Mediana: 0.0055859834\n",
      "📌 Q1 (1º Quartil - 25%): 0.00105914322193712\n",
      "📌 Q2 (Mediana - 50%): 0.005585983628407121\n",
      "📌 Q3 (3º Quartil - 75%): 0.043701413087546825\n",
      "📌 Desvio Padrão: 0.19939682\n",
      "📌 Variância: 0.039759092\n",
      "📌 Mínimo: 0.00012255205\n",
      "📌 Máximo: 0.9950789\n"
     ]
    }
   ],
   "source": [
    "# Estatisticas basicas de predicao no teste global\n",
    "y_pred_g = model.predict(test_dmatrix_g)\n",
    "print(\"\\n🔹 Estatísticas Básicas de y_pred_g\")\n",
    "print(\"-\" * 50)\n",
    "print(\"📌 Média:\", np.mean(y_pred_g))\n",
    "print(\"📌 Mediana:\", np.median(y_pred_g))\n",
    "print(\"📌 Q1 (1º Quartil - 25%):\", np.percentile(y_pred_g, 25))\n",
    "print(\"📌 Q2 (Mediana - 50%):\", np.percentile(y_pred_g, 50))\n",
    "print(\"📌 Q3 (3º Quartil - 75%):\", np.percentile(y_pred_g, 75))\n",
    "print(\"📌 Desvio Padrão:\", np.std(y_pred_g))\n",
    "print(\"📌 Variância:\", np.var(y_pred_g))\n",
    "print(\"📌 Mínimo:\", np.min(y_pred_g))\n",
    "print(\"📌 Máximo:\", np.max(y_pred_g))"
   ]
  },
  {
   "cell_type": "code",
   "execution_count": null,
   "metadata": {},
   "outputs": [
    {
     "name": "stdout",
     "output_type": "stream",
     "text": [
      "\n",
      "🔹 **Resultados do Modelo 1**\n",
      "------------------------------------------------------------\n",
      "✅ **Accuracy:** 1.0\n",
      "\n",
      "📊 **Classification Report:**\n",
      "               precision    recall  f1-score   support\n",
      "\n",
      "       <=50K       1.00      1.00      1.00      1059\n",
      "        >50K       0.00      0.00      0.00         0\n",
      "\n",
      "    accuracy                           1.00      1059\n",
      "   macro avg       0.50      0.50      0.50      1059\n",
      "weighted avg       1.00      1.00      1.00      1059\n",
      "\n",
      "📈 **ROC-AUC:** nan\n",
      "⚡ **F1 Scores:**\n",
      "  - Macro: 1.0\n",
      "  - Micro: 1.0\n",
      "  - Weighted: 1.0\n",
      "  - None: [1.]\n",
      "------------------------------------------------------------\n",
      "\n",
      "🔹 **Resultados do Modelo 2**\n",
      "------------------------------------------------------------\n",
      "✅ **Accuracy:** 0.9979973297730307\n",
      "\n",
      "📊 **Classification Report:**\n",
      "               precision    recall  f1-score   support\n",
      "\n",
      "       <=50K       1.00      1.00      1.00      2991\n",
      "        >50K       0.00      0.00      0.00         5\n",
      "\n",
      "    accuracy                           1.00      2996\n",
      "   macro avg       0.50      0.50      0.50      2996\n",
      "weighted avg       1.00      1.00      1.00      2996\n",
      "\n",
      "📈 **ROC-AUC:** 0.8996990972918756\n",
      "⚡ **F1 Scores:**\n",
      "  - Macro: 0.4994988306047444\n",
      "  - Micro: 0.9979973297730307\n",
      "  - Weighted: 0.9973304421487253\n",
      "  - None: [0.99899766 0.        ]\n",
      "------------------------------------------------------------\n",
      "\n",
      "🔹 **Resultados do Modelo 3**\n",
      "------------------------------------------------------------\n",
      "✅ **Accuracy:** 1.0\n",
      "\n",
      "📊 **Classification Report:**\n",
      "               precision    recall  f1-score   support\n",
      "\n",
      "       <=50K       1.00      1.00      1.00      1526\n",
      "        >50K       0.00      0.00      0.00         0\n",
      "\n",
      "    accuracy                           1.00      1526\n",
      "   macro avg       0.50      0.50      0.50      1526\n",
      "weighted avg       1.00      1.00      1.00      1526\n",
      "\n",
      "📈 **ROC-AUC:** nan\n",
      "⚡ **F1 Scores:**\n",
      "  - Macro: 1.0\n",
      "  - Micro: 1.0\n",
      "  - Weighted: 1.0\n",
      "  - None: [1.]\n",
      "------------------------------------------------------------\n",
      "\n",
      "🔹 **Resultados do Modelo 4**\n",
      "------------------------------------------------------------\n",
      "✅ **Accuracy:** 0.9710610932475884\n",
      "\n",
      "📊 **Classification Report:**\n",
      "               precision    recall  f1-score   support\n",
      "\n",
      "       <=50K       0.97      1.00      0.99       898\n",
      "        >50K       0.90      0.26      0.40        35\n",
      "\n",
      "    accuracy                           0.97       933\n",
      "   macro avg       0.94      0.63      0.69       933\n",
      "weighted avg       0.97      0.97      0.96       933\n",
      "\n",
      "📈 **ROC-AUC:** 0.9180719058224627\n",
      "⚡ **F1 Scores:**\n",
      "  - Macro: 0.6925864909390445\n",
      "  - Micro: 0.9710610932475884\n",
      "  - Weighted: 0.9632211551195327\n",
      "  - None: [0.98517298 0.4       ]\n",
      "------------------------------------------------------------\n"
     ]
    }
   ],
   "source": [
    "# Ignore UndefinedMetricWarning\n",
    "warnings.filterwarnings(\"ignore\", category=UndefinedMetricWarning)\n",
    "\n",
    "# Desempenho dos modelos\n",
    "for i, (model, test_dmatrix) in enumerate(zip(models, test_dmatrixes)):\n",
    "    y_pred = model.predict(test_dmatrix)\n",
    "    y_pred_binary = np.where(y_pred > 0.5, 1, 0)\n",
    "    y_test = test_dmatrix.get_label()\n",
    "\n",
    "    print(f\"\\n🔹 **Resultados do Modelo {i+1}**\")\n",
    "    print(\"-\" * 60)\n",
    "\n",
    "    print(\"✅ **Accuracy:**\", accuracy_score(y_test, y_pred_binary))\n",
    "\n",
    "    print(\"\\n📊 **Classification Report:**\\n\",\n",
    "          classification_report(y_test, y_pred_binary,\n",
    "                                target_names=ordinal_encoder.categories_[-1],\n",
    "                                labels=[0., 1.])\n",
    "    )\n",
    "\n",
    "    # Tratar erro do ROC-AUC quando há apenas uma classe presente\n",
    "    try:\n",
    "        roc_auc = roc_auc_score(y_test, y_pred)\n",
    "    except ValueError:\n",
    "        roc_auc = \"Indefinido (apenas uma classe presente)\"\n",
    "\n",
    "    print(\"📈 **ROC-AUC:**\", roc_auc)\n",
    "\n",
    "    print(\"⚡ **F1 Scores:**\")\n",
    "    print(\"  - Macro:\", f1_score(y_test, y_pred_binary, average='macro'))\n",
    "    print(\"  - Micro:\", f1_score(y_test, y_pred_binary, average='micro'))\n",
    "    print(\"  - Weighted:\", f1_score(y_test, y_pred_binary, average='weighted'))\n",
    "    print(\"  - None:\", f1_score(y_test, y_pred_binary, average=None))\n",
    "\n",
    "    print(\"-\" * 60)  # Separador entre iterações do loop\n"
   ]
  },
  {
   "cell_type": "code",
   "execution_count": 55,
   "metadata": {},
   "outputs": [
    {
     "name": "stdout",
     "output_type": "stream",
     "text": [
      "\n",
      "🔹 **Resultados do Modelo 1 no Teste Global**\n",
      "------------------------------------------------------------\n",
      "✅ **Accuracy:** 0.767782168436651\n",
      "\n",
      "📊 **Classification Report:**\n",
      "               precision    recall  f1-score   support\n",
      "\n",
      "       <=50K       0.77      1.00      0.87     12435\n",
      "        >50K       0.00      0.00      0.00      3761\n",
      "\n",
      "    accuracy                           0.77     16196\n",
      "   macro avg       0.38      0.50      0.43     16196\n",
      "weighted avg       0.59      0.77      0.67     16196\n",
      "\n",
      "📈 **ROC-AUC:** 0.5\n",
      "⚡ **F1 Scores:**\n",
      "  - Macro: 0.43431944395934474\n",
      "  - Micro: 0.767782168436651\n",
      "  - Weighted: 0.6669254489546125\n",
      "  - None: [0.86863889 0.        ]\n",
      "------------------------------------------------------------\n",
      "\n",
      "🔹 **Resultados do Modelo 2 no Teste Global**\n",
      "------------------------------------------------------------\n",
      "✅ **Accuracy:** 0.7796986910348234\n",
      "\n",
      "📊 **Classification Report:**\n",
      "               precision    recall  f1-score   support\n",
      "\n",
      "       <=50K       0.78      1.00      0.87     12435\n",
      "        >50K       0.99      0.05      0.10      3761\n",
      "\n",
      "    accuracy                           0.78     16196\n",
      "   macro avg       0.89      0.53      0.49     16196\n",
      "weighted avg       0.83      0.78      0.69     16196\n",
      "\n",
      "📈 **ROC-AUC:** 0.8143751923723115\n",
      "⚡ **F1 Scores:**\n",
      "  - Macro: 0.4863020586132362\n",
      "  - Micro: 0.7796986910348234\n",
      "  - Weighted: 0.6942205544976191\n",
      "  - None: [0.87452525 0.09807887]\n",
      "------------------------------------------------------------\n",
      "\n",
      "🔹 **Resultados do Modelo 3 no Teste Global**\n",
      "------------------------------------------------------------\n",
      "✅ **Accuracy:** 0.767782168436651\n",
      "\n",
      "📊 **Classification Report:**\n",
      "               precision    recall  f1-score   support\n",
      "\n",
      "       <=50K       0.77      1.00      0.87     12435\n",
      "        >50K       0.00      0.00      0.00      3761\n",
      "\n",
      "    accuracy                           0.77     16196\n",
      "   macro avg       0.38      0.50      0.43     16196\n",
      "weighted avg       0.59      0.77      0.67     16196\n",
      "\n",
      "📈 **ROC-AUC:** 0.5\n",
      "⚡ **F1 Scores:**\n",
      "  - Macro: 0.43431944395934474\n",
      "  - Micro: 0.767782168436651\n",
      "  - Weighted: 0.6669254489546125\n",
      "  - None: [0.86863889 0.        ]\n",
      "------------------------------------------------------------\n",
      "\n",
      "🔹 **Resultados do Modelo 4 no Teste Global**\n",
      "------------------------------------------------------------\n",
      "✅ **Accuracy:** 0.816065695233391\n",
      "\n",
      "📊 **Classification Report:**\n",
      "               precision    recall  f1-score   support\n",
      "\n",
      "       <=50K       0.81      1.00      0.89     12435\n",
      "        >50K       0.96      0.22      0.35      3761\n",
      "\n",
      "    accuracy                           0.82     16196\n",
      "   macro avg       0.88      0.61      0.62     16196\n",
      "weighted avg       0.84      0.82      0.77     16196\n",
      "\n",
      "📈 **ROC-AUC:** 0.8885264476046514\n",
      "⚡ **F1 Scores:**\n",
      "  - Macro: 0.6233523391442741\n",
      "  - Micro: 0.816065695233391\n",
      "  - Weighted: 0.7676419939321032\n",
      "  - None: [0.89276844 0.35393624]\n",
      "------------------------------------------------------------\n"
     ]
    }
   ],
   "source": [
    "for i, model in enumerate(models):\n",
    "    y_pred_g = model.predict(test_dmatrix_g)\n",
    "    y_pred_g_binary = np.where(y_pred_g > 0.5, 1, 0)\n",
    "    y_test_g = test_dmatrix_g.get_label()\n",
    "    print(f\"\\n🔹 **Resultados do Modelo {i+1} no Teste Global**\")\n",
    "    print(\"-\" * 60)\n",
    "\n",
    "    print(\"✅ **Accuracy:**\", accuracy_score(y_test_g, y_pred_g_binary))\n",
    "\n",
    "    print(\"\\n📊 **Classification Report:**\\n\",\n",
    "        classification_report(y_test_g, y_pred_g_binary,\n",
    "                                target_names=ordinal_encoder.categories_[-1],\n",
    "                                labels=[0., 1.])\n",
    "    )\n",
    "\n",
    "    # Tratar erro do ROC-AUC quando há apenas uma classe presente\n",
    "    try:\n",
    "        roc_auc = roc_auc_score(y_test_g, y_pred_g)\n",
    "    except ValueError:\n",
    "        roc_auc = \"Indefinido (apenas uma classe presente)\"\n",
    "\n",
    "    print(\"📈 **ROC-AUC:**\", roc_auc)\n",
    "\n",
    "    print(\"⚡ **F1 Scores:**\")\n",
    "    print(\"  - Macro:\", f1_score(y_test_g, y_pred_g_binary, average='macro'))\n",
    "    print(\"  - Micro:\", f1_score(y_test_g, y_pred_g_binary, average='micro'))\n",
    "    print(\"  - Weighted:\", f1_score(y_test_g, y_pred_g_binary, average='weighted'))\n",
    "    print(\"  - None:\", f1_score(y_test_g, y_pred_g_binary, average=None))\n",
    "\n",
    "    print(\"-\" * 60)  # Separador entre iterações do loop\n"
   ]
  },
  {
   "cell_type": "markdown",
   "metadata": {},
   "source": [
    "#### Modelo pre-treinado"
   ]
  },
  {
   "cell_type": "code",
   "execution_count": 29,
   "metadata": {},
   "outputs": [],
   "source": [
    "# Load saved model\n",
    "with open(\"global_model_round1.json\", \"r\") as f:  # Change round number as needed\n",
    "    model_str = f.read()\n",
    "    \n",
    "# Convert string back to bytes\n",
    "model_bytes = model_str.encode(\"utf-8\")\n",
    "\n",
    "# Define XGBoost parameters as dictionary\n",
    "xgb_params = {\n",
    "    'objective': 'binary:logistic',\n",
    "    'eta': 0.1,\n",
    "    'max_depth': 8,\n",
    "    'eval_metric': 'auc',\n",
    "    'nthread': 16,\n",
    "    'num_parallel_tree': 1,\n",
    "    'subsample': 1,\n",
    "    'tree_method': 'hist'\n",
    "}\n",
    "\n",
    "# Create new booster and load model\n",
    "bst = xgb.Booster(params=xgb_params)\n",
    "bst.load_model(bytearray(model_bytes))"
   ]
  },
  {
   "cell_type": "code",
   "execution_count": 30,
   "metadata": {},
   "outputs": [
    {
     "name": "stderr",
     "output_type": "stream",
     "text": [
      "/Users/Mara/miniconda3/envs/GeraFed/lib/python3.10/site-packages/xgboost/core.py:158: UserWarning: [19:23:22] WARNING: /Users/runner/work/xgboost/xgboost/src/metric/auc.cc:324: Dataset is empty, or contains only positive or negative samples.\n",
      "  warnings.warn(smsg, UserWarning)\n"
     ]
    },
    {
     "name": "stdout",
     "output_type": "stream",
     "text": [
      "AUC: nan\n",
      "Accuracy: 1.0\n",
      "F1 Score: 1.0\n",
      "Partition weight: 1059\n",
      "AUC: 0.8942\n",
      "Accuracy: 0.9983311081441922\n",
      "F1 Score: 0.4995824285952898\n",
      "Partition weight: 2996\n",
      "AUC: nan\n",
      "Accuracy: 1.0\n",
      "F1 Score: 1.0\n",
      "Partition weight: 1526\n",
      "AUC: 0.8733\n",
      "Accuracy: 0.962486602357985\n",
      "F1 Score: 0.4904423812124522\n",
      "Partition weight: 933\n"
     ]
    },
    {
     "name": "stderr",
     "output_type": "stream",
     "text": [
      "/Users/Mara/miniconda3/envs/GeraFed/lib/python3.10/site-packages/xgboost/core.py:158: UserWarning: [19:23:22] WARNING: /Users/runner/work/xgboost/xgboost/src/metric/auc.cc:324: Dataset is empty, or contains only positive or negative samples.\n",
      "  warnings.warn(smsg, UserWarning)\n"
     ]
    }
   ],
   "source": [
    "# Calcula metricas para cada particao\n",
    "total_weighted_acc = 0\n",
    "total_weighted_f1 = 0\n",
    "len_test_partitions = 0\n",
    "for test_dmatrix in test_dmatrixes:\n",
    "    eval_results = bst.eval_set(\n",
    "        evals=[(test_dmatrix, \"valid\")],\n",
    "        iteration=bst.num_boosted_rounds() - 1,\n",
    "    )\n",
    "    auc = round(float(eval_results.split(\"\\t\")[1].split(\":\")[1]), 4)\n",
    "    print(f\"AUC: {auc}\")\n",
    "    acc = accuracy_score(\n",
    "                test_dmatrix.get_label(),\n",
    "                bst.predict(test_dmatrix) > 0.5,\n",
    "            )\n",
    "    print(f\"Accuracy: {acc}\")\n",
    "    f1 = f1_score(\n",
    "                test_dmatrix.get_label(),\n",
    "                bst.predict(test_dmatrix) > 0.5,\n",
    "                average=\"macro\"\n",
    "            )\n",
    "    print(f\"F1 Score: {f1}\")\n",
    "    total_weighted_acc += acc * len(test_dmatrix.get_label())\n",
    "    total_weighted_f1 += f1 * len(test_dmatrix.get_label())\n",
    "    print(f\"Partition weight: {len(test_dmatrix.get_label())}\")\n",
    "    len_test_partitions += len(test_dmatrix.get_label())"
   ]
  },
  {
   "cell_type": "code",
   "execution_count": 31,
   "metadata": {},
   "outputs": [
    {
     "name": "stdout",
     "output_type": "stream",
     "text": [
      "Average Accuracy: 0.9938593797973595\n",
      "Average F1 Score: 0.6968577982411278\n"
     ]
    }
   ],
   "source": [
    "#Calcula media das metricas de cada particao\n",
    "avg_acc = total_weighted_acc / len_test_partitions\n",
    "avg_f1 = total_weighted_f1 / len_test_partitions\n",
    "\n",
    "print(f\"Average Accuracy: {avg_acc}\")\n",
    "print(f\"Average F1 Score: {avg_f1}\")"
   ]
  },
  {
   "cell_type": "code",
   "execution_count": 32,
   "metadata": {},
   "outputs": [
    {
     "name": "stdout",
     "output_type": "stream",
     "text": [
      "Class distribution: income\n",
      "0.0    5294\n",
      "Name: count, dtype: int64\n",
      "Class distribution: income\n",
      "0.0    14946\n",
      "1.0       30\n",
      "Name: count, dtype: int64\n",
      "Class distribution: income\n",
      "0.0    7627\n",
      "Name: count, dtype: int64\n",
      "Class distribution: income\n",
      "0.0    4480\n",
      "1.0     184\n",
      "Name: count, dtype: int64\n"
     ]
    }
   ],
   "source": [
    "for combined_data_df in combined_data_dfs:\n",
    "    print(f\"Class distribution: {combined_data_df['income'].value_counts()}\")"
   ]
  }
 ],
 "metadata": {
  "kernelspec": {
   "display_name": "Adult",
   "language": "python",
   "name": "python3"
  },
  "language_info": {
   "codemirror_mode": {
    "name": "ipython",
    "version": 3
   },
   "file_extension": ".py",
   "mimetype": "text/x-python",
   "name": "python",
   "nbconvert_exporter": "python",
   "pygments_lexer": "ipython3",
   "version": "3.10.16"
  }
 },
 "nbformat": 4,
 "nbformat_minor": 2
}
