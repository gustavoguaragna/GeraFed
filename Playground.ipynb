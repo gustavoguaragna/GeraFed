{
 "cells": [
  {
   "cell_type": "code",
   "execution_count": 1,
   "metadata": {},
   "outputs": [
    {
     "name": "stderr",
     "output_type": "stream",
     "text": [
      "/Users/Mara/miniconda3/envs/GeraFed/lib/python3.10/site-packages/tqdm/auto.py:21: TqdmWarning: IProgress not found. Please update jupyter and ipywidgets. See https://ipywidgets.readthedocs.io/en/stable/user_install.html\n",
      "  from .autonotebook import tqdm as notebook_tqdm\n"
     ]
    }
   ],
   "source": [
    "from flwr_datasets import FederatedDataset\n",
    "from flwr_datasets.partitioner import DirichletPartitioner"
   ]
  },
  {
   "cell_type": "code",
   "execution_count": 2,
   "metadata": {},
   "outputs": [],
   "source": [
    "num_partitions = 4"
   ]
  },
  {
   "cell_type": "code",
   "execution_count": 25,
   "metadata": {},
   "outputs": [],
   "source": [
    "partitioner = DirichletPartitioner(\n",
    "                num_partitions=num_partitions,\n",
    "                partition_by=\"label\",\n",
    "                alpha=0.1,\n",
    "                min_partition_size=0,\n",
    "                self_balancing=False,\n",
    "                seed = None\n",
    "            )"
   ]
  },
  {
   "cell_type": "code",
   "execution_count": 26,
   "metadata": {},
   "outputs": [],
   "source": [
    "fds = FederatedDataset(\n",
    "    dataset=\"mnist\",\n",
    "    partitioners={\"train\": partitioner}\n",
    ")"
   ]
  },
  {
   "cell_type": "code",
   "execution_count": 27,
   "metadata": {},
   "outputs": [],
   "source": [
    "# Load the partitions\n",
    "train_partitions = [fds.load_partition(i, split=\"train\") for i in range(num_partitions)]\n",
    "test_partition = fds.load_split(split=\"test\")"
   ]
  },
  {
   "cell_type": "code",
   "execution_count": 6,
   "metadata": {},
   "outputs": [],
   "source": [
    "from torchvision.transforms import Compose, Normalize, ToTensor"
   ]
  },
  {
   "cell_type": "code",
   "execution_count": 23,
   "metadata": {},
   "outputs": [],
   "source": [
    "pytorch_transforms = Compose([\n",
    "    ToTensor(),\n",
    "    Normalize((0.5,), (0.5,))\n",
    "])\n",
    "\n",
    "def apply_transforms(batch):\n",
    "    batch[\"image\"] = [pytorch_transforms(img) for img in batch[\"image\"]]\n",
    "    return batch\n",
    "\n",
    "train_partitions = [train_partition.with_transform(apply_transforms) for train_partition in train_partitions]\n",
    "test_partition = test_partition.with_transform(apply_transforms)"
   ]
  },
  {
   "cell_type": "code",
   "execution_count": 8,
   "metadata": {},
   "outputs": [],
   "source": [
    "from torch.utils.data import DataLoader"
   ]
  },
  {
   "cell_type": "code",
   "execution_count": 9,
   "metadata": {},
   "outputs": [],
   "source": [
    "trainloaders = [DataLoader(train_partition, batch_size=64, shuffle=True) for train_partition in train_partitions]\n",
    "testloader = DataLoader(test_partition, batch_size=64)"
   ]
  },
  {
   "cell_type": "code",
   "execution_count": 10,
   "metadata": {},
   "outputs": [],
   "source": [
    "import torch\n",
    "import torch.nn as nn\n",
    "import torch.nn.functional as F"
   ]
  },
  {
   "cell_type": "code",
   "execution_count": 11,
   "metadata": {},
   "outputs": [],
   "source": [
    "class Net(nn.Module):\n",
    "    \"\"\"Model (simple CNN adapted from 'PyTorch: A 60 Minute Blitz')\"\"\"\n",
    "\n",
    "    def __init__(self):\n",
    "        super(Net, self).__init__()\n",
    "        self.conv1 = nn.Conv2d(1, 6, 5)\n",
    "        self.pool = nn.MaxPool2d(2, 2)\n",
    "        self.conv2 = nn.Conv2d(6, 16, 5)\n",
    "        self.fc1 = nn.Linear(16 * 4 * 4, 120)\n",
    "        self.fc2 = nn.Linear(120, 84)\n",
    "        self.fc3 = nn.Linear(84, 10)\n",
    "\n",
    "    def forward(self, x):\n",
    "        x = self.pool(F.relu(self.conv1(x)))\n",
    "        x = self.pool(F.relu(self.conv2(x)))\n",
    "        x = x.view(-1, 16 * 4 * 4)\n",
    "        x = F.relu(self.fc1(x))\n",
    "        x = F.relu(self.fc2(x))\n",
    "        return self.fc3(x)"
   ]
  },
  {
   "cell_type": "code",
   "execution_count": 12,
   "metadata": {},
   "outputs": [],
   "source": [
    "device = \"cpu\"\n",
    "nets = [Net() for _ in train_partitions]"
   ]
  },
  {
   "cell_type": "code",
   "execution_count": 14,
   "metadata": {},
   "outputs": [],
   "source": [
    "criterion = torch.nn.CrossEntropyLoss().to(device)\n",
    "optimizer = torch.optim.Adam(nets[0].parameters(), lr=0.001)\n",
    "for i in range(len(train_partitions)):\n",
    "    nets[i].to(device)\n",
    "    nets[i].train()\n",
    "    for _ in range(2):\n",
    "        for batch in trainloaders[i]:\n",
    "            images = batch[\"image\"]\n",
    "            labels = batch[\"label\"]\n",
    "            optimizer.zero_grad()\n",
    "            loss = criterion(nets[i](images.to(device)), labels.to(device))\n",
    "            loss.backward()\n",
    "            optimizer.step() "
   ]
  },
  {
   "cell_type": "code",
   "execution_count": 15,
   "metadata": {},
   "outputs": [],
   "source": [
    "# net.load_state_dict(torch.load(\"modelo_alvo_round_3_mnist.pt\"))\n",
    "# net.to(device)"
   ]
  },
  {
   "cell_type": "code",
   "execution_count": 16,
   "metadata": {},
   "outputs": [],
   "source": [
    "correct, loss = 0, 0.0\n",
    "accuracies = [0.0 for _ in nets]\n",
    "losses = [0.0 for _ in nets]\n",
    "for i, net in enumerate(nets):\n",
    "    net.eval()\n",
    "    with torch.no_grad():\n",
    "        for batch in testloader:\n",
    "            images = batch[\"image\"].to(device)\n",
    "            labels = batch[\"label\"].to(device)\n",
    "            outputs = net(images)\n",
    "            loss += criterion(outputs, labels).item()\n",
    "            correct += (torch.max(outputs.data, 1)[1] == labels).sum().item()\n",
    "    accuracies[i] = correct / len(testloader.dataset)\n",
    "    losses[i] = loss / len(testloader)"
   ]
  },
  {
   "cell_type": "code",
   "execution_count": 17,
   "metadata": {},
   "outputs": [
    {
     "name": "stdout",
     "output_type": "stream",
     "text": [
      "Accuracies: [0.6144, 0.7115, 0.8055, 0.8804]\n",
      "Losses: [2.515940585713478, 4.819820736623873, 7.1272786028066255, 9.431423957180826]\n"
     ]
    }
   ],
   "source": [
    "print(f\"Accuracies: {accuracies}\")\n",
    "print(f\"Losses: {losses}\")"
   ]
  },
  {
   "cell_type": "code",
   "execution_count": 7,
   "metadata": {},
   "outputs": [],
   "source": [
    "import numpy as np"
   ]
  },
  {
   "cell_type": "code",
   "execution_count": 9,
   "metadata": {},
   "outputs": [
    {
     "data": {
      "text/plain": [
       "nan"
      ]
     },
     "execution_count": 9,
     "metadata": {},
     "output_type": "execute_result"
    }
   ],
   "source": [
    "round(np.nan, 4)"
   ]
  },
  {
   "cell_type": "code",
   "execution_count": 18,
   "metadata": {},
   "outputs": [
    {
     "name": "stdout",
     "output_type": "stream",
     "text": [
      "Weighted Accuracy: 0.7459578\n",
      "Weighted Loss: 5.77405835733034\n"
     ]
    }
   ],
   "source": [
    "# Obter o tamanho de cada partição de treino\n",
    "partition_sizes = [len(partition) for partition in train_partitions]\n",
    "\n",
    "# Calcular a soma dos tamanhos das partições\n",
    "total_size = sum(partition_sizes)\n",
    "\n",
    "# Calcular a média ponderada de accuracies\n",
    "weighted_accuracy = sum(acc * size for acc, size in zip(accuracies, partition_sizes)) / total_size\n",
    "\n",
    "# Calcular a média ponderada de losses\n",
    "weighted_loss = sum(loss * size for loss, size in zip(losses, partition_sizes)) / total_size\n",
    "\n",
    "print(f\"Weighted Accuracy: {weighted_accuracy}\")\n",
    "print(f\"Weighted Loss: {weighted_loss}\")"
   ]
  }
 ],
 "metadata": {
  "kernelspec": {
   "display_name": "GeraFed",
   "language": "python",
   "name": "python3"
  },
  "language_info": {
   "codemirror_mode": {
    "name": "ipython",
    "version": 3
   },
   "file_extension": ".py",
   "mimetype": "text/x-python",
   "name": "python",
   "nbconvert_exporter": "python",
   "pygments_lexer": "ipython3",
   "version": "3.10.16"
  }
 },
 "nbformat": 4,
 "nbformat_minor": 2
}
